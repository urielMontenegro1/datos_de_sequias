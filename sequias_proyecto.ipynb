{
 "cells": [
  {
   "cell_type": "code",
   "execution_count": 1,
   "metadata": {},
   "outputs": [],
   "source": [
    "import pandas as pd\n",
    "import numpy as np\n",
    "import seaborn as sns\n",
    "import matplotlib.pyplot as plt\n",
    "from numpy import str_\n"
   ]
  },
  {
   "cell_type": "code",
   "execution_count": 2,
   "metadata": {},
   "outputs": [],
   "source": [
    "sequias_df=pd.read_excel('MunicipiosSequia.xlsx')"
   ]
  },
  {
   "cell_type": "code",
   "execution_count": 3,
   "metadata": {},
   "outputs": [
    {
     "data": {
      "text/html": [
       "<div>\n",
       "<style scoped>\n",
       "    .dataframe tbody tr th:only-of-type {\n",
       "        vertical-align: middle;\n",
       "    }\n",
       "\n",
       "    .dataframe tbody tr th {\n",
       "        vertical-align: top;\n",
       "    }\n",
       "\n",
       "    .dataframe thead th {\n",
       "        text-align: right;\n",
       "    }\n",
       "</style>\n",
       "<table border=\"1\" class=\"dataframe\">\n",
       "  <thead>\n",
       "    <tr style=\"text-align: right;\">\n",
       "      <th></th>\n",
       "      <th>CVE_CONCATENADA</th>\n",
       "      <th>CVE_ENT</th>\n",
       "      <th>CVE_MUN</th>\n",
       "      <th>NOMBRE_MUN</th>\n",
       "      <th>ENTIDAD</th>\n",
       "      <th>ORG_CUENCA</th>\n",
       "      <th>CLV_OC</th>\n",
       "      <th>CON_CUENCA</th>\n",
       "      <th>CVE_CONC</th>\n",
       "      <th>2003-01-31 00:00:00</th>\n",
       "      <th>...</th>\n",
       "      <th>2022-02-28 00:00:00</th>\n",
       "      <th>2022-03-15 00:00:00</th>\n",
       "      <th>2022-03-31 00:00:00</th>\n",
       "      <th>2022-04-15 00:00:00</th>\n",
       "      <th>2022-04-30 00:00:00</th>\n",
       "      <th>2022-05-15 00:00:00</th>\n",
       "      <th>2022-05-31 00:00:00</th>\n",
       "      <th>2022-06-15 00:00:00</th>\n",
       "      <th>2022-06-30 00:00:00</th>\n",
       "      <th>2022-07-15 00:00:00</th>\n",
       "    </tr>\n",
       "  </thead>\n",
       "  <tbody>\n",
       "    <tr>\n",
       "      <th>0</th>\n",
       "      <td>1001</td>\n",
       "      <td>1</td>\n",
       "      <td>1</td>\n",
       "      <td>Aguascalientes</td>\n",
       "      <td>Aguascalientes</td>\n",
       "      <td>Lerma Santiago Pacífico</td>\n",
       "      <td>VIII</td>\n",
       "      <td>Rio Santiago</td>\n",
       "      <td>16</td>\n",
       "      <td>NaN</td>\n",
       "      <td>...</td>\n",
       "      <td>D0</td>\n",
       "      <td>D1</td>\n",
       "      <td>D1</td>\n",
       "      <td>D2</td>\n",
       "      <td>D1</td>\n",
       "      <td>D1</td>\n",
       "      <td>D1</td>\n",
       "      <td>D0</td>\n",
       "      <td>D1</td>\n",
       "      <td>D1</td>\n",
       "    </tr>\n",
       "    <tr>\n",
       "      <th>1</th>\n",
       "      <td>1002</td>\n",
       "      <td>1</td>\n",
       "      <td>2</td>\n",
       "      <td>Asientos</td>\n",
       "      <td>Aguascalientes</td>\n",
       "      <td>Lerma Santiago Pacífico</td>\n",
       "      <td>VIII</td>\n",
       "      <td>Rio Santiago</td>\n",
       "      <td>16</td>\n",
       "      <td>NaN</td>\n",
       "      <td>...</td>\n",
       "      <td>D0</td>\n",
       "      <td>D1</td>\n",
       "      <td>D1</td>\n",
       "      <td>D1</td>\n",
       "      <td>D1</td>\n",
       "      <td>D1</td>\n",
       "      <td>D1</td>\n",
       "      <td>D1</td>\n",
       "      <td>D2</td>\n",
       "      <td>D2</td>\n",
       "    </tr>\n",
       "    <tr>\n",
       "      <th>2</th>\n",
       "      <td>1003</td>\n",
       "      <td>1</td>\n",
       "      <td>3</td>\n",
       "      <td>Calvillo</td>\n",
       "      <td>Aguascalientes</td>\n",
       "      <td>Lerma Santiago Pacífico</td>\n",
       "      <td>VIII</td>\n",
       "      <td>Rio Santiago</td>\n",
       "      <td>16</td>\n",
       "      <td>NaN</td>\n",
       "      <td>...</td>\n",
       "      <td>D1</td>\n",
       "      <td>D1</td>\n",
       "      <td>D1</td>\n",
       "      <td>D2</td>\n",
       "      <td>D1</td>\n",
       "      <td>D1</td>\n",
       "      <td>D1</td>\n",
       "      <td>D1</td>\n",
       "      <td>D1</td>\n",
       "      <td>D2</td>\n",
       "    </tr>\n",
       "    <tr>\n",
       "      <th>3</th>\n",
       "      <td>1004</td>\n",
       "      <td>1</td>\n",
       "      <td>4</td>\n",
       "      <td>Cosío</td>\n",
       "      <td>Aguascalientes</td>\n",
       "      <td>Lerma Santiago Pacífico</td>\n",
       "      <td>VIII</td>\n",
       "      <td>Rio Santiago</td>\n",
       "      <td>16</td>\n",
       "      <td>NaN</td>\n",
       "      <td>...</td>\n",
       "      <td>D0</td>\n",
       "      <td>D0</td>\n",
       "      <td>D1</td>\n",
       "      <td>D1</td>\n",
       "      <td>D1</td>\n",
       "      <td>D1</td>\n",
       "      <td>D1</td>\n",
       "      <td>D1</td>\n",
       "      <td>D1</td>\n",
       "      <td>D1</td>\n",
       "    </tr>\n",
       "    <tr>\n",
       "      <th>4</th>\n",
       "      <td>1005</td>\n",
       "      <td>1</td>\n",
       "      <td>5</td>\n",
       "      <td>Jesús María</td>\n",
       "      <td>Aguascalientes</td>\n",
       "      <td>Lerma Santiago Pacífico</td>\n",
       "      <td>VIII</td>\n",
       "      <td>Rio Santiago</td>\n",
       "      <td>16</td>\n",
       "      <td>NaN</td>\n",
       "      <td>...</td>\n",
       "      <td>D0</td>\n",
       "      <td>D1</td>\n",
       "      <td>D1</td>\n",
       "      <td>D1</td>\n",
       "      <td>D1</td>\n",
       "      <td>D1</td>\n",
       "      <td>D1</td>\n",
       "      <td>D0</td>\n",
       "      <td>D1</td>\n",
       "      <td>D1</td>\n",
       "    </tr>\n",
       "  </tbody>\n",
       "</table>\n",
       "<p>5 rows × 345 columns</p>\n",
       "</div>"
      ],
      "text/plain": [
       "   CVE_CONCATENADA  CVE_ENT  CVE_MUN      NOMBRE_MUN         ENTIDAD  \\\n",
       "0             1001        1        1  Aguascalientes  Aguascalientes   \n",
       "1             1002        1        2        Asientos  Aguascalientes   \n",
       "2             1003        1        3        Calvillo  Aguascalientes   \n",
       "3             1004        1        4           Cosío  Aguascalientes   \n",
       "4             1005        1        5     Jesús María  Aguascalientes   \n",
       "\n",
       "                ORG_CUENCA CLV_OC    CON_CUENCA  CVE_CONC 2003-01-31 00:00:00  \\\n",
       "0  Lerma Santiago Pacífico   VIII  Rio Santiago        16                 NaN   \n",
       "1  Lerma Santiago Pacífico   VIII  Rio Santiago        16                 NaN   \n",
       "2  Lerma Santiago Pacífico   VIII  Rio Santiago        16                 NaN   \n",
       "3  Lerma Santiago Pacífico   VIII  Rio Santiago        16                 NaN   \n",
       "4  Lerma Santiago Pacífico   VIII  Rio Santiago        16                 NaN   \n",
       "\n",
       "   ... 2022-02-28 00:00:00 2022-03-15 00:00:00 2022-03-31 00:00:00  \\\n",
       "0  ...                  D0                  D1                  D1   \n",
       "1  ...                  D0                  D1                  D1   \n",
       "2  ...                  D1                  D1                  D1   \n",
       "3  ...                  D0                  D0                  D1   \n",
       "4  ...                  D0                  D1                  D1   \n",
       "\n",
       "  2022-04-15 00:00:00 2022-04-30 00:00:00 2022-05-15 00:00:00  \\\n",
       "0                  D2                  D1                  D1   \n",
       "1                  D1                  D1                  D1   \n",
       "2                  D2                  D1                  D1   \n",
       "3                  D1                  D1                  D1   \n",
       "4                  D1                  D1                  D1   \n",
       "\n",
       "   2022-05-31 00:00:00 2022-06-15 00:00:00 2022-06-30 00:00:00  \\\n",
       "0                   D1                  D0                  D1   \n",
       "1                   D1                  D1                  D2   \n",
       "2                   D1                  D1                  D1   \n",
       "3                   D1                  D1                  D1   \n",
       "4                   D1                  D0                  D1   \n",
       "\n",
       "  2022-07-15 00:00:00  \n",
       "0                  D1  \n",
       "1                  D2  \n",
       "2                  D2  \n",
       "3                  D1  \n",
       "4                  D1  \n",
       "\n",
       "[5 rows x 345 columns]"
      ]
     },
     "execution_count": 3,
     "metadata": {},
     "output_type": "execute_result"
    }
   ],
   "source": [
    "sequias_df.head(5)"
   ]
  },
  {
   "cell_type": "code",
   "execution_count": 4,
   "metadata": {},
   "outputs": [],
   "source": [
    "sequias_df3=sequias_df['ENTIDAD']"
   ]
  },
  {
   "cell_type": "code",
   "execution_count": 5,
   "metadata": {},
   "outputs": [
    {
     "name": "stdout",
     "output_type": "stream",
     "text": [
      "<class 'pandas.core.frame.DataFrame'>\n",
      "RangeIndex: 2463 entries, 0 to 2462\n",
      "Columns: 345 entries, CVE_CONCATENADA to 2022-07-15 00:00:00\n",
      "dtypes: float64(2), int64(4), object(339)\n",
      "memory usage: 6.5+ MB\n"
     ]
    }
   ],
   "source": [
    "sequias_df.info()"
   ]
  },
  {
   "cell_type": "code",
   "execution_count": 6,
   "metadata": {},
   "outputs": [
    {
     "data": {
      "text/plain": [
       "<AxesSubplot:>"
      ]
     },
     "execution_count": 6,
     "metadata": {},
     "output_type": "execute_result"
    },
    {
     "data": {
      "image/png": "[encoded data removed]",
      "text/plain": [
       "<Figure size 432x288 with 1 Axes>"
      ]
     },
     "metadata": {
      "needs_background": "light"
     },
     "output_type": "display_data"
    }
   ],
   "source": [
    "sns.heatmap(sequias_df.isnull(), yticklabels=False, cbar = False, cmap = \"Blues\")"
   ]
  },
  {
   "cell_type": "code",
   "execution_count": 7,
   "metadata": {},
   "outputs": [
    {
     "data": {
      "text/plain": [
       "array([[<AxesSubplot:title={'center':'CVE_CONCATENADA'}>,\n",
       "        <AxesSubplot:title={'center':'CVE_ENT'}>],\n",
       "       [<AxesSubplot:title={'center':'CVE_MUN'}>,\n",
       "        <AxesSubplot:title={'center':'CVE_CONC'}>],\n",
       "       [<AxesSubplot:title={'center':'2003-08-31 00:00:00'}>,\n",
       "        <AxesSubplot:title={'center':'2004-02-29 00:00:00'}>]],\n",
       "      dtype=object)"
      ]
     },
     "execution_count": 7,
     "metadata": {},
     "output_type": "execute_result"
    },
    {
     "data": {
      "image/png": "[encoded data removed]",
      "text/plain": [
       "<Figure size 1440x1440 with 6 Axes>"
      ]
     },
     "metadata": {
      "needs_background": "light"
     },
     "output_type": "display_data"
    }
   ],
   "source": [
    "sequias_df.hist(bins=30, figsize=(20,20), color=\"r\")"
   ]
  },
  {
   "cell_type": "code",
   "execution_count": 8,
   "metadata": {},
   "outputs": [],
   "source": [
    "sequias_df.drop(['CVE_MUN','NOMBRE_MUN','CVE_CONCATENADA','ORG_CUENCA','CLV_OC','CON_CUENCA','CVE_CONC'], axis=1, inplace=True)"
   ]
  },
  {
   "cell_type": "code",
   "execution_count": 9,
   "metadata": {},
   "outputs": [
    {
     "data": {
      "text/html": [
       "<div>\n",
       "<style scoped>\n",
       "    .dataframe tbody tr th:only-of-type {\n",
       "        vertical-align: middle;\n",
       "    }\n",
       "\n",
       "    .dataframe tbody tr th {\n",
       "        vertical-align: top;\n",
       "    }\n",
       "\n",
       "    .dataframe thead th {\n",
       "        text-align: right;\n",
       "    }\n",
       "</style>\n",
       "<table border=\"1\" class=\"dataframe\">\n",
       "  <thead>\n",
       "    <tr style=\"text-align: right;\">\n",
       "      <th></th>\n",
       "      <th>CVE_ENT</th>\n",
       "      <th>ENTIDAD</th>\n",
       "      <th>2003-01-31 00:00:00</th>\n",
       "      <th>2003-02-28 00:00:00</th>\n",
       "      <th>2003-03-31 00:00:00</th>\n",
       "      <th>2003-04-30 00:00:00</th>\n",
       "      <th>2003-05-31 00:00:00</th>\n",
       "      <th>2003-06-30 00:00:00</th>\n",
       "      <th>2003-07-31 00:00:00</th>\n",
       "      <th>2003-08-31 00:00:00</th>\n",
       "      <th>...</th>\n",
       "      <th>2022-02-28 00:00:00</th>\n",
       "      <th>2022-03-15 00:00:00</th>\n",
       "      <th>2022-03-31 00:00:00</th>\n",
       "      <th>2022-04-15 00:00:00</th>\n",
       "      <th>2022-04-30 00:00:00</th>\n",
       "      <th>2022-05-15 00:00:00</th>\n",
       "      <th>2022-05-31 00:00:00</th>\n",
       "      <th>2022-06-15 00:00:00</th>\n",
       "      <th>2022-06-30 00:00:00</th>\n",
       "      <th>2022-07-15 00:00:00</th>\n",
       "    </tr>\n",
       "  </thead>\n",
       "  <tbody>\n",
       "    <tr>\n",
       "      <th>0</th>\n",
       "      <td>1</td>\n",
       "      <td>Aguascalientes</td>\n",
       "      <td>NaN</td>\n",
       "      <td>NaN</td>\n",
       "      <td>NaN</td>\n",
       "      <td>NaN</td>\n",
       "      <td>NaN</td>\n",
       "      <td>NaN</td>\n",
       "      <td>NaN</td>\n",
       "      <td>NaN</td>\n",
       "      <td>...</td>\n",
       "      <td>D0</td>\n",
       "      <td>D1</td>\n",
       "      <td>D1</td>\n",
       "      <td>D2</td>\n",
       "      <td>D1</td>\n",
       "      <td>D1</td>\n",
       "      <td>D1</td>\n",
       "      <td>D0</td>\n",
       "      <td>D1</td>\n",
       "      <td>D1</td>\n",
       "    </tr>\n",
       "    <tr>\n",
       "      <th>1</th>\n",
       "      <td>1</td>\n",
       "      <td>Aguascalientes</td>\n",
       "      <td>NaN</td>\n",
       "      <td>NaN</td>\n",
       "      <td>NaN</td>\n",
       "      <td>NaN</td>\n",
       "      <td>NaN</td>\n",
       "      <td>NaN</td>\n",
       "      <td>NaN</td>\n",
       "      <td>NaN</td>\n",
       "      <td>...</td>\n",
       "      <td>D0</td>\n",
       "      <td>D1</td>\n",
       "      <td>D1</td>\n",
       "      <td>D1</td>\n",
       "      <td>D1</td>\n",
       "      <td>D1</td>\n",
       "      <td>D1</td>\n",
       "      <td>D1</td>\n",
       "      <td>D2</td>\n",
       "      <td>D2</td>\n",
       "    </tr>\n",
       "    <tr>\n",
       "      <th>2</th>\n",
       "      <td>1</td>\n",
       "      <td>Aguascalientes</td>\n",
       "      <td>NaN</td>\n",
       "      <td>NaN</td>\n",
       "      <td>NaN</td>\n",
       "      <td>NaN</td>\n",
       "      <td>NaN</td>\n",
       "      <td>NaN</td>\n",
       "      <td>NaN</td>\n",
       "      <td>NaN</td>\n",
       "      <td>...</td>\n",
       "      <td>D1</td>\n",
       "      <td>D1</td>\n",
       "      <td>D1</td>\n",
       "      <td>D2</td>\n",
       "      <td>D1</td>\n",
       "      <td>D1</td>\n",
       "      <td>D1</td>\n",
       "      <td>D1</td>\n",
       "      <td>D1</td>\n",
       "      <td>D2</td>\n",
       "    </tr>\n",
       "    <tr>\n",
       "      <th>3</th>\n",
       "      <td>1</td>\n",
       "      <td>Aguascalientes</td>\n",
       "      <td>NaN</td>\n",
       "      <td>NaN</td>\n",
       "      <td>NaN</td>\n",
       "      <td>NaN</td>\n",
       "      <td>NaN</td>\n",
       "      <td>NaN</td>\n",
       "      <td>NaN</td>\n",
       "      <td>NaN</td>\n",
       "      <td>...</td>\n",
       "      <td>D0</td>\n",
       "      <td>D0</td>\n",
       "      <td>D1</td>\n",
       "      <td>D1</td>\n",
       "      <td>D1</td>\n",
       "      <td>D1</td>\n",
       "      <td>D1</td>\n",
       "      <td>D1</td>\n",
       "      <td>D1</td>\n",
       "      <td>D1</td>\n",
       "    </tr>\n",
       "    <tr>\n",
       "      <th>4</th>\n",
       "      <td>1</td>\n",
       "      <td>Aguascalientes</td>\n",
       "      <td>NaN</td>\n",
       "      <td>NaN</td>\n",
       "      <td>NaN</td>\n",
       "      <td>NaN</td>\n",
       "      <td>NaN</td>\n",
       "      <td>NaN</td>\n",
       "      <td>NaN</td>\n",
       "      <td>NaN</td>\n",
       "      <td>...</td>\n",
       "      <td>D0</td>\n",
       "      <td>D1</td>\n",
       "      <td>D1</td>\n",
       "      <td>D1</td>\n",
       "      <td>D1</td>\n",
       "      <td>D1</td>\n",
       "      <td>D1</td>\n",
       "      <td>D0</td>\n",
       "      <td>D1</td>\n",
       "      <td>D1</td>\n",
       "    </tr>\n",
       "    <tr>\n",
       "      <th>...</th>\n",
       "      <td>...</td>\n",
       "      <td>...</td>\n",
       "      <td>...</td>\n",
       "      <td>...</td>\n",
       "      <td>...</td>\n",
       "      <td>...</td>\n",
       "      <td>...</td>\n",
       "      <td>...</td>\n",
       "      <td>...</td>\n",
       "      <td>...</td>\n",
       "      <td>...</td>\n",
       "      <td>...</td>\n",
       "      <td>...</td>\n",
       "      <td>...</td>\n",
       "      <td>...</td>\n",
       "      <td>...</td>\n",
       "      <td>...</td>\n",
       "      <td>...</td>\n",
       "      <td>...</td>\n",
       "      <td>...</td>\n",
       "      <td>...</td>\n",
       "    </tr>\n",
       "    <tr>\n",
       "      <th>2458</th>\n",
       "      <td>32</td>\n",
       "      <td>Zacatecas</td>\n",
       "      <td>NaN</td>\n",
       "      <td>NaN</td>\n",
       "      <td>NaN</td>\n",
       "      <td>NaN</td>\n",
       "      <td>NaN</td>\n",
       "      <td>NaN</td>\n",
       "      <td>NaN</td>\n",
       "      <td>NaN</td>\n",
       "      <td>...</td>\n",
       "      <td>D0</td>\n",
       "      <td>D1</td>\n",
       "      <td>D1</td>\n",
       "      <td>D1</td>\n",
       "      <td>D1</td>\n",
       "      <td>D1</td>\n",
       "      <td>D1</td>\n",
       "      <td>D1</td>\n",
       "      <td>D2</td>\n",
       "      <td>D2</td>\n",
       "    </tr>\n",
       "    <tr>\n",
       "      <th>2459</th>\n",
       "      <td>32</td>\n",
       "      <td>Zacatecas</td>\n",
       "      <td>NaN</td>\n",
       "      <td>NaN</td>\n",
       "      <td>NaN</td>\n",
       "      <td>NaN</td>\n",
       "      <td>NaN</td>\n",
       "      <td>NaN</td>\n",
       "      <td>NaN</td>\n",
       "      <td>NaN</td>\n",
       "      <td>...</td>\n",
       "      <td>D1</td>\n",
       "      <td>D2</td>\n",
       "      <td>D2</td>\n",
       "      <td>D2</td>\n",
       "      <td>D1</td>\n",
       "      <td>D1</td>\n",
       "      <td>D1</td>\n",
       "      <td>D1</td>\n",
       "      <td>D1</td>\n",
       "      <td>D2</td>\n",
       "    </tr>\n",
       "    <tr>\n",
       "      <th>2460</th>\n",
       "      <td>32</td>\n",
       "      <td>Zacatecas</td>\n",
       "      <td>NaN</td>\n",
       "      <td>NaN</td>\n",
       "      <td>NaN</td>\n",
       "      <td>D0</td>\n",
       "      <td>D0</td>\n",
       "      <td>NaN</td>\n",
       "      <td>NaN</td>\n",
       "      <td>NaN</td>\n",
       "      <td>...</td>\n",
       "      <td>D0</td>\n",
       "      <td>D1</td>\n",
       "      <td>D1</td>\n",
       "      <td>D1</td>\n",
       "      <td>D1</td>\n",
       "      <td>D1</td>\n",
       "      <td>D1</td>\n",
       "      <td>D0</td>\n",
       "      <td>D0</td>\n",
       "      <td>D0</td>\n",
       "    </tr>\n",
       "    <tr>\n",
       "      <th>2461</th>\n",
       "      <td>32</td>\n",
       "      <td>Zacatecas</td>\n",
       "      <td>NaN</td>\n",
       "      <td>NaN</td>\n",
       "      <td>NaN</td>\n",
       "      <td>D0</td>\n",
       "      <td>D0</td>\n",
       "      <td>NaN</td>\n",
       "      <td>NaN</td>\n",
       "      <td>NaN</td>\n",
       "      <td>...</td>\n",
       "      <td>D0</td>\n",
       "      <td>D0</td>\n",
       "      <td>D0</td>\n",
       "      <td>D1</td>\n",
       "      <td>D0</td>\n",
       "      <td>D0</td>\n",
       "      <td>D0</td>\n",
       "      <td>D0</td>\n",
       "      <td>D0</td>\n",
       "      <td>D0</td>\n",
       "    </tr>\n",
       "    <tr>\n",
       "      <th>2462</th>\n",
       "      <td>32</td>\n",
       "      <td>Zacatecas</td>\n",
       "      <td>NaN</td>\n",
       "      <td>NaN</td>\n",
       "      <td>NaN</td>\n",
       "      <td>NaN</td>\n",
       "      <td>NaN</td>\n",
       "      <td>NaN</td>\n",
       "      <td>NaN</td>\n",
       "      <td>NaN</td>\n",
       "      <td>...</td>\n",
       "      <td>D1</td>\n",
       "      <td>D2</td>\n",
       "      <td>D2</td>\n",
       "      <td>D2</td>\n",
       "      <td>D2</td>\n",
       "      <td>D2</td>\n",
       "      <td>D1</td>\n",
       "      <td>D0</td>\n",
       "      <td>D0</td>\n",
       "      <td>D0</td>\n",
       "    </tr>\n",
       "  </tbody>\n",
       "</table>\n",
       "<p>2463 rows × 338 columns</p>\n",
       "</div>"
      ],
      "text/plain": [
       "      CVE_ENT         ENTIDAD 2003-01-31 00:00:00 2003-02-28 00:00:00  \\\n",
       "0           1  Aguascalientes                 NaN                 NaN   \n",
       "1           1  Aguascalientes                 NaN                 NaN   \n",
       "2           1  Aguascalientes                 NaN                 NaN   \n",
       "3           1  Aguascalientes                 NaN                 NaN   \n",
       "4           1  Aguascalientes                 NaN                 NaN   \n",
       "...       ...             ...                 ...                 ...   \n",
       "2458       32       Zacatecas                 NaN                 NaN   \n",
       "2459       32       Zacatecas                 NaN                 NaN   \n",
       "2460       32       Zacatecas                 NaN                 NaN   \n",
       "2461       32       Zacatecas                 NaN                 NaN   \n",
       "2462       32       Zacatecas                 NaN                 NaN   \n",
       "\n",
       "     2003-03-31 00:00:00 2003-04-30 00:00:00 2003-05-31 00:00:00  \\\n",
       "0                    NaN                 NaN                 NaN   \n",
       "1                    NaN                 NaN                 NaN   \n",
       "2                    NaN                 NaN                 NaN   \n",
       "3                    NaN                 NaN                 NaN   \n",
       "4                    NaN                 NaN                 NaN   \n",
       "...                  ...                 ...                 ...   \n",
       "2458                 NaN                 NaN                 NaN   \n",
       "2459                 NaN                 NaN                 NaN   \n",
       "2460                 NaN                  D0                  D0   \n",
       "2461                 NaN                  D0                  D0   \n",
       "2462                 NaN                 NaN                 NaN   \n",
       "\n",
       "     2003-06-30 00:00:00 2003-07-31 00:00:00  2003-08-31 00:00:00  ...  \\\n",
       "0                    NaN                 NaN                  NaN  ...   \n",
       "1                    NaN                 NaN                  NaN  ...   \n",
       "2                    NaN                 NaN                  NaN  ...   \n",
       "3                    NaN                 NaN                  NaN  ...   \n",
       "4                    NaN                 NaN                  NaN  ...   \n",
       "...                  ...                 ...                  ...  ...   \n",
       "2458                 NaN                 NaN                  NaN  ...   \n",
       "2459                 NaN                 NaN                  NaN  ...   \n",
       "2460                 NaN                 NaN                  NaN  ...   \n",
       "2461                 NaN                 NaN                  NaN  ...   \n",
       "2462                 NaN                 NaN                  NaN  ...   \n",
       "\n",
       "     2022-02-28 00:00:00 2022-03-15 00:00:00 2022-03-31 00:00:00  \\\n",
       "0                     D0                  D1                  D1   \n",
       "1                     D0                  D1                  D1   \n",
       "2                     D1                  D1                  D1   \n",
       "3                     D0                  D0                  D1   \n",
       "4                     D0                  D1                  D1   \n",
       "...                  ...                 ...                 ...   \n",
       "2458                  D0                  D1                  D1   \n",
       "2459                  D1                  D2                  D2   \n",
       "2460                  D0                  D1                  D1   \n",
       "2461                  D0                  D0                  D0   \n",
       "2462                  D1                  D2                  D2   \n",
       "\n",
       "     2022-04-15 00:00:00 2022-04-30 00:00:00  2022-05-15 00:00:00  \\\n",
       "0                     D2                  D1                   D1   \n",
       "1                     D1                  D1                   D1   \n",
       "2                     D2                  D1                   D1   \n",
       "3                     D1                  D1                   D1   \n",
       "4                     D1                  D1                   D1   \n",
       "...                  ...                 ...                  ...   \n",
       "2458                  D1                  D1                   D1   \n",
       "2459                  D2                  D1                   D1   \n",
       "2460                  D1                  D1                   D1   \n",
       "2461                  D1                  D0                   D0   \n",
       "2462                  D2                  D2                   D2   \n",
       "\n",
       "     2022-05-31 00:00:00 2022-06-15 00:00:00 2022-06-30 00:00:00  \\\n",
       "0                     D1                  D0                  D1   \n",
       "1                     D1                  D1                  D2   \n",
       "2                     D1                  D1                  D1   \n",
       "3                     D1                  D1                  D1   \n",
       "4                     D1                  D0                  D1   \n",
       "...                  ...                 ...                 ...   \n",
       "2458                  D1                  D1                  D2   \n",
       "2459                  D1                  D1                  D1   \n",
       "2460                  D1                  D0                  D0   \n",
       "2461                  D0                  D0                  D0   \n",
       "2462                  D1                  D0                  D0   \n",
       "\n",
       "     2022-07-15 00:00:00  \n",
       "0                     D1  \n",
       "1                     D2  \n",
       "2                     D2  \n",
       "3                     D1  \n",
       "4                     D1  \n",
       "...                  ...  \n",
       "2458                  D2  \n",
       "2459                  D2  \n",
       "2460                  D0  \n",
       "2461                  D0  \n",
       "2462                  D0  \n",
       "\n",
       "[2463 rows x 338 columns]"
      ]
     },
     "execution_count": 9,
     "metadata": {},
     "output_type": "execute_result"
    }
   ],
   "source": [
    "sequias_df"
   ]
  },
  {
   "cell_type": "code",
   "execution_count": 10,
   "metadata": {},
   "outputs": [],
   "source": [
    "\n",
    "\n",
    "for str in sequias_df:\n",
    "    sequias_df[str].fillna(0, inplace=True)"
   ]
  },
  {
   "cell_type": "code",
   "execution_count": 11,
   "metadata": {},
   "outputs": [
    {
     "data": {
      "text/html": [
       "<div>\n",
       "<style scoped>\n",
       "    .dataframe tbody tr th:only-of-type {\n",
       "        vertical-align: middle;\n",
       "    }\n",
       "\n",
       "    .dataframe tbody tr th {\n",
       "        vertical-align: top;\n",
       "    }\n",
       "\n",
       "    .dataframe thead th {\n",
       "        text-align: right;\n",
       "    }\n",
       "</style>\n",
       "<table border=\"1\" class=\"dataframe\">\n",
       "  <thead>\n",
       "    <tr style=\"text-align: right;\">\n",
       "      <th></th>\n",
       "      <th>CVE_ENT</th>\n",
       "      <th>ENTIDAD</th>\n",
       "      <th>2003-01-31 00:00:00</th>\n",
       "      <th>2003-02-28 00:00:00</th>\n",
       "      <th>2003-03-31 00:00:00</th>\n",
       "      <th>2003-04-30 00:00:00</th>\n",
       "      <th>2003-05-31 00:00:00</th>\n",
       "      <th>2003-06-30 00:00:00</th>\n",
       "      <th>2003-07-31 00:00:00</th>\n",
       "      <th>2003-08-31 00:00:00</th>\n",
       "      <th>...</th>\n",
       "      <th>2022-02-28 00:00:00</th>\n",
       "      <th>2022-03-15 00:00:00</th>\n",
       "      <th>2022-03-31 00:00:00</th>\n",
       "      <th>2022-04-15 00:00:00</th>\n",
       "      <th>2022-04-30 00:00:00</th>\n",
       "      <th>2022-05-15 00:00:00</th>\n",
       "      <th>2022-05-31 00:00:00</th>\n",
       "      <th>2022-06-15 00:00:00</th>\n",
       "      <th>2022-06-30 00:00:00</th>\n",
       "      <th>2022-07-15 00:00:00</th>\n",
       "    </tr>\n",
       "  </thead>\n",
       "  <tbody>\n",
       "    <tr>\n",
       "      <th>0</th>\n",
       "      <td>1</td>\n",
       "      <td>Aguascalientes</td>\n",
       "      <td>0</td>\n",
       "      <td>0</td>\n",
       "      <td>0</td>\n",
       "      <td>0</td>\n",
       "      <td>0</td>\n",
       "      <td>0</td>\n",
       "      <td>0</td>\n",
       "      <td>0.0</td>\n",
       "      <td>...</td>\n",
       "      <td>D0</td>\n",
       "      <td>D1</td>\n",
       "      <td>D1</td>\n",
       "      <td>D2</td>\n",
       "      <td>D1</td>\n",
       "      <td>D1</td>\n",
       "      <td>D1</td>\n",
       "      <td>D0</td>\n",
       "      <td>D1</td>\n",
       "      <td>D1</td>\n",
       "    </tr>\n",
       "    <tr>\n",
       "      <th>1</th>\n",
       "      <td>1</td>\n",
       "      <td>Aguascalientes</td>\n",
       "      <td>0</td>\n",
       "      <td>0</td>\n",
       "      <td>0</td>\n",
       "      <td>0</td>\n",
       "      <td>0</td>\n",
       "      <td>0</td>\n",
       "      <td>0</td>\n",
       "      <td>0.0</td>\n",
       "      <td>...</td>\n",
       "      <td>D0</td>\n",
       "      <td>D1</td>\n",
       "      <td>D1</td>\n",
       "      <td>D1</td>\n",
       "      <td>D1</td>\n",
       "      <td>D1</td>\n",
       "      <td>D1</td>\n",
       "      <td>D1</td>\n",
       "      <td>D2</td>\n",
       "      <td>D2</td>\n",
       "    </tr>\n",
       "    <tr>\n",
       "      <th>2</th>\n",
       "      <td>1</td>\n",
       "      <td>Aguascalientes</td>\n",
       "      <td>0</td>\n",
       "      <td>0</td>\n",
       "      <td>0</td>\n",
       "      <td>0</td>\n",
       "      <td>0</td>\n",
       "      <td>0</td>\n",
       "      <td>0</td>\n",
       "      <td>0.0</td>\n",
       "      <td>...</td>\n",
       "      <td>D1</td>\n",
       "      <td>D1</td>\n",
       "      <td>D1</td>\n",
       "      <td>D2</td>\n",
       "      <td>D1</td>\n",
       "      <td>D1</td>\n",
       "      <td>D1</td>\n",
       "      <td>D1</td>\n",
       "      <td>D1</td>\n",
       "      <td>D2</td>\n",
       "    </tr>\n",
       "    <tr>\n",
       "      <th>3</th>\n",
       "      <td>1</td>\n",
       "      <td>Aguascalientes</td>\n",
       "      <td>0</td>\n",
       "      <td>0</td>\n",
       "      <td>0</td>\n",
       "      <td>0</td>\n",
       "      <td>0</td>\n",
       "      <td>0</td>\n",
       "      <td>0</td>\n",
       "      <td>0.0</td>\n",
       "      <td>...</td>\n",
       "      <td>D0</td>\n",
       "      <td>D0</td>\n",
       "      <td>D1</td>\n",
       "      <td>D1</td>\n",
       "      <td>D1</td>\n",
       "      <td>D1</td>\n",
       "      <td>D1</td>\n",
       "      <td>D1</td>\n",
       "      <td>D1</td>\n",
       "      <td>D1</td>\n",
       "    </tr>\n",
       "    <tr>\n",
       "      <th>4</th>\n",
       "      <td>1</td>\n",
       "      <td>Aguascalientes</td>\n",
       "      <td>0</td>\n",
       "      <td>0</td>\n",
       "      <td>0</td>\n",
       "      <td>0</td>\n",
       "      <td>0</td>\n",
       "      <td>0</td>\n",
       "      <td>0</td>\n",
       "      <td>0.0</td>\n",
       "      <td>...</td>\n",
       "      <td>D0</td>\n",
       "      <td>D1</td>\n",
       "      <td>D1</td>\n",
       "      <td>D1</td>\n",
       "      <td>D1</td>\n",
       "      <td>D1</td>\n",
       "      <td>D1</td>\n",
       "      <td>D0</td>\n",
       "      <td>D1</td>\n",
       "      <td>D1</td>\n",
       "    </tr>\n",
       "    <tr>\n",
       "      <th>...</th>\n",
       "      <td>...</td>\n",
       "      <td>...</td>\n",
       "      <td>...</td>\n",
       "      <td>...</td>\n",
       "      <td>...</td>\n",
       "      <td>...</td>\n",
       "      <td>...</td>\n",
       "      <td>...</td>\n",
       "      <td>...</td>\n",
       "      <td>...</td>\n",
       "      <td>...</td>\n",
       "      <td>...</td>\n",
       "      <td>...</td>\n",
       "      <td>...</td>\n",
       "      <td>...</td>\n",
       "      <td>...</td>\n",
       "      <td>...</td>\n",
       "      <td>...</td>\n",
       "      <td>...</td>\n",
       "      <td>...</td>\n",
       "      <td>...</td>\n",
       "    </tr>\n",
       "    <tr>\n",
       "      <th>2458</th>\n",
       "      <td>32</td>\n",
       "      <td>Zacatecas</td>\n",
       "      <td>0</td>\n",
       "      <td>0</td>\n",
       "      <td>0</td>\n",
       "      <td>0</td>\n",
       "      <td>0</td>\n",
       "      <td>0</td>\n",
       "      <td>0</td>\n",
       "      <td>0.0</td>\n",
       "      <td>...</td>\n",
       "      <td>D0</td>\n",
       "      <td>D1</td>\n",
       "      <td>D1</td>\n",
       "      <td>D1</td>\n",
       "      <td>D1</td>\n",
       "      <td>D1</td>\n",
       "      <td>D1</td>\n",
       "      <td>D1</td>\n",
       "      <td>D2</td>\n",
       "      <td>D2</td>\n",
       "    </tr>\n",
       "    <tr>\n",
       "      <th>2459</th>\n",
       "      <td>32</td>\n",
       "      <td>Zacatecas</td>\n",
       "      <td>0</td>\n",
       "      <td>0</td>\n",
       "      <td>0</td>\n",
       "      <td>0</td>\n",
       "      <td>0</td>\n",
       "      <td>0</td>\n",
       "      <td>0</td>\n",
       "      <td>0.0</td>\n",
       "      <td>...</td>\n",
       "      <td>D1</td>\n",
       "      <td>D2</td>\n",
       "      <td>D2</td>\n",
       "      <td>D2</td>\n",
       "      <td>D1</td>\n",
       "      <td>D1</td>\n",
       "      <td>D1</td>\n",
       "      <td>D1</td>\n",
       "      <td>D1</td>\n",
       "      <td>D2</td>\n",
       "    </tr>\n",
       "    <tr>\n",
       "      <th>2460</th>\n",
       "      <td>32</td>\n",
       "      <td>Zacatecas</td>\n",
       "      <td>0</td>\n",
       "      <td>0</td>\n",
       "      <td>0</td>\n",
       "      <td>D0</td>\n",
       "      <td>D0</td>\n",
       "      <td>0</td>\n",
       "      <td>0</td>\n",
       "      <td>0.0</td>\n",
       "      <td>...</td>\n",
       "      <td>D0</td>\n",
       "      <td>D1</td>\n",
       "      <td>D1</td>\n",
       "      <td>D1</td>\n",
       "      <td>D1</td>\n",
       "      <td>D1</td>\n",
       "      <td>D1</td>\n",
       "      <td>D0</td>\n",
       "      <td>D0</td>\n",
       "      <td>D0</td>\n",
       "    </tr>\n",
       "    <tr>\n",
       "      <th>2461</th>\n",
       "      <td>32</td>\n",
       "      <td>Zacatecas</td>\n",
       "      <td>0</td>\n",
       "      <td>0</td>\n",
       "      <td>0</td>\n",
       "      <td>D0</td>\n",
       "      <td>D0</td>\n",
       "      <td>0</td>\n",
       "      <td>0</td>\n",
       "      <td>0.0</td>\n",
       "      <td>...</td>\n",
       "      <td>D0</td>\n",
       "      <td>D0</td>\n",
       "      <td>D0</td>\n",
       "      <td>D1</td>\n",
       "      <td>D0</td>\n",
       "      <td>D0</td>\n",
       "      <td>D0</td>\n",
       "      <td>D0</td>\n",
       "      <td>D0</td>\n",
       "      <td>D0</td>\n",
       "    </tr>\n",
       "    <tr>\n",
       "      <th>2462</th>\n",
       "      <td>32</td>\n",
       "      <td>Zacatecas</td>\n",
       "      <td>0</td>\n",
       "      <td>0</td>\n",
       "      <td>0</td>\n",
       "      <td>0</td>\n",
       "      <td>0</td>\n",
       "      <td>0</td>\n",
       "      <td>0</td>\n",
       "      <td>0.0</td>\n",
       "      <td>...</td>\n",
       "      <td>D1</td>\n",
       "      <td>D2</td>\n",
       "      <td>D2</td>\n",
       "      <td>D2</td>\n",
       "      <td>D2</td>\n",
       "      <td>D2</td>\n",
       "      <td>D1</td>\n",
       "      <td>D0</td>\n",
       "      <td>D0</td>\n",
       "      <td>D0</td>\n",
       "    </tr>\n",
       "  </tbody>\n",
       "</table>\n",
       "<p>2463 rows × 338 columns</p>\n",
       "</div>"
      ],
      "text/plain": [
       "      CVE_ENT         ENTIDAD 2003-01-31 00:00:00 2003-02-28 00:00:00  \\\n",
       "0           1  Aguascalientes                   0                   0   \n",
       "1           1  Aguascalientes                   0                   0   \n",
       "2           1  Aguascalientes                   0                   0   \n",
       "3           1  Aguascalientes                   0                   0   \n",
       "4           1  Aguascalientes                   0                   0   \n",
       "...       ...             ...                 ...                 ...   \n",
       "2458       32       Zacatecas                   0                   0   \n",
       "2459       32       Zacatecas                   0                   0   \n",
       "2460       32       Zacatecas                   0                   0   \n",
       "2461       32       Zacatecas                   0                   0   \n",
       "2462       32       Zacatecas                   0                   0   \n",
       "\n",
       "     2003-03-31 00:00:00 2003-04-30 00:00:00 2003-05-31 00:00:00  \\\n",
       "0                      0                   0                   0   \n",
       "1                      0                   0                   0   \n",
       "2                      0                   0                   0   \n",
       "3                      0                   0                   0   \n",
       "4                      0                   0                   0   \n",
       "...                  ...                 ...                 ...   \n",
       "2458                   0                   0                   0   \n",
       "2459                   0                   0                   0   \n",
       "2460                   0                  D0                  D0   \n",
       "2461                   0                  D0                  D0   \n",
       "2462                   0                   0                   0   \n",
       "\n",
       "     2003-06-30 00:00:00 2003-07-31 00:00:00  2003-08-31 00:00:00  ...  \\\n",
       "0                      0                   0                  0.0  ...   \n",
       "1                      0                   0                  0.0  ...   \n",
       "2                      0                   0                  0.0  ...   \n",
       "3                      0                   0                  0.0  ...   \n",
       "4                      0                   0                  0.0  ...   \n",
       "...                  ...                 ...                  ...  ...   \n",
       "2458                   0                   0                  0.0  ...   \n",
       "2459                   0                   0                  0.0  ...   \n",
       "2460                   0                   0                  0.0  ...   \n",
       "2461                   0                   0                  0.0  ...   \n",
       "2462                   0                   0                  0.0  ...   \n",
       "\n",
       "     2022-02-28 00:00:00 2022-03-15 00:00:00 2022-03-31 00:00:00  \\\n",
       "0                     D0                  D1                  D1   \n",
       "1                     D0                  D1                  D1   \n",
       "2                     D1                  D1                  D1   \n",
       "3                     D0                  D0                  D1   \n",
       "4                     D0                  D1                  D1   \n",
       "...                  ...                 ...                 ...   \n",
       "2458                  D0                  D1                  D1   \n",
       "2459                  D1                  D2                  D2   \n",
       "2460                  D0                  D1                  D1   \n",
       "2461                  D0                  D0                  D0   \n",
       "2462                  D1                  D2                  D2   \n",
       "\n",
       "     2022-04-15 00:00:00 2022-04-30 00:00:00  2022-05-15 00:00:00  \\\n",
       "0                     D2                  D1                   D1   \n",
       "1                     D1                  D1                   D1   \n",
       "2                     D2                  D1                   D1   \n",
       "3                     D1                  D1                   D1   \n",
       "4                     D1                  D1                   D1   \n",
       "...                  ...                 ...                  ...   \n",
       "2458                  D1                  D1                   D1   \n",
       "2459                  D2                  D1                   D1   \n",
       "2460                  D1                  D1                   D1   \n",
       "2461                  D1                  D0                   D0   \n",
       "2462                  D2                  D2                   D2   \n",
       "\n",
       "     2022-05-31 00:00:00 2022-06-15 00:00:00 2022-06-30 00:00:00  \\\n",
       "0                     D1                  D0                  D1   \n",
       "1                     D1                  D1                  D2   \n",
       "2                     D1                  D1                  D1   \n",
       "3                     D1                  D1                  D1   \n",
       "4                     D1                  D0                  D1   \n",
       "...                  ...                 ...                 ...   \n",
       "2458                  D1                  D1                  D2   \n",
       "2459                  D1                  D1                  D1   \n",
       "2460                  D1                  D0                  D0   \n",
       "2461                  D0                  D0                  D0   \n",
       "2462                  D1                  D0                  D0   \n",
       "\n",
       "     2022-07-15 00:00:00  \n",
       "0                     D1  \n",
       "1                     D2  \n",
       "2                     D2  \n",
       "3                     D1  \n",
       "4                     D1  \n",
       "...                  ...  \n",
       "2458                  D2  \n",
       "2459                  D2  \n",
       "2460                  D0  \n",
       "2461                  D0  \n",
       "2462                  D0  \n",
       "\n",
       "[2463 rows x 338 columns]"
      ]
     },
     "execution_count": 11,
     "metadata": {},
     "output_type": "execute_result"
    }
   ],
   "source": [
    "sequias_df"
   ]
  },
  {
   "cell_type": "code",
   "execution_count": 12,
   "metadata": {},
   "outputs": [],
   "source": [
    "#l=sequias_df.iloc[15,1]\n",
    "#print(l)"
   ]
  },
  {
   "cell_type": "code",
   "execution_count": 13,
   "metadata": {},
   "outputs": [
    {
     "data": {
      "text/plain": [
       "<AxesSubplot:>"
      ]
     },
     "execution_count": 13,
     "metadata": {},
     "output_type": "execute_result"
    },
    {
     "data": {
      "image/png": "[encoded data removed]",
      "text/plain": [
       "<Figure size 432x288 with 1 Axes>"
      ]
     },
     "metadata": {
      "needs_background": "light"
     },
     "output_type": "display_data"
    }
   ],
   "source": [
    "sns.heatmap(sequias_df.isnull(), yticklabels=False, cbar = False, cmap = \"Blues\")"
   ]
  },
  {
   "cell_type": "code",
   "execution_count": 14,
   "metadata": {},
   "outputs": [
    {
     "data": {
      "text/plain": [
       "array([[<AxesSubplot:title={'center':'CVE_ENT'}>,\n",
       "        <AxesSubplot:title={'center':'2003-08-31 00:00:00'}>],\n",
       "       [<AxesSubplot:title={'center':'2004-02-29 00:00:00'}>,\n",
       "        <AxesSubplot:>]], dtype=object)"
      ]
     },
     "execution_count": 14,
     "metadata": {},
     "output_type": "execute_result"
    },
    {
     "data": {
      "image/png": "[encoded data removed]",
      "text/plain": [
       "<Figure size 1440x1440 with 4 Axes>"
      ]
     },
     "metadata": {
      "needs_background": "light"
     },
     "output_type": "display_data"
    }
   ],
   "source": [
    "sequias_df.hist(bins=30, figsize=(20,20), color=\"r\")"
   ]
  },
  {
   "cell_type": "code",
   "execution_count": 15,
   "metadata": {},
   "outputs": [],
   "source": [
    "sequias_df2 = sequias_df.replace({'D0':'1',\n",
    "                             'D1':'2',\n",
    "                             'D2':'3',\n",
    "                             'D3':'4',\n",
    "                             'D4':'5'}\n",
    "                             )"
   ]
  },
  {
   "cell_type": "code",
   "execution_count": 16,
   "metadata": {},
   "outputs": [
    {
     "data": {
      "text/html": [
       "<div>\n",
       "<style scoped>\n",
       "    .dataframe tbody tr th:only-of-type {\n",
       "        vertical-align: middle;\n",
       "    }\n",
       "\n",
       "    .dataframe tbody tr th {\n",
       "        vertical-align: top;\n",
       "    }\n",
       "\n",
       "    .dataframe thead th {\n",
       "        text-align: right;\n",
       "    }\n",
       "</style>\n",
       "<table border=\"1\" class=\"dataframe\">\n",
       "  <thead>\n",
       "    <tr style=\"text-align: right;\">\n",
       "      <th></th>\n",
       "      <th>CVE_ENT</th>\n",
       "      <th>ENTIDAD</th>\n",
       "      <th>2003-01-31 00:00:00</th>\n",
       "      <th>2003-02-28 00:00:00</th>\n",
       "      <th>2003-03-31 00:00:00</th>\n",
       "      <th>2003-04-30 00:00:00</th>\n",
       "      <th>2003-05-31 00:00:00</th>\n",
       "      <th>2003-06-30 00:00:00</th>\n",
       "      <th>2003-07-31 00:00:00</th>\n",
       "      <th>2003-08-31 00:00:00</th>\n",
       "      <th>...</th>\n",
       "      <th>2022-02-28 00:00:00</th>\n",
       "      <th>2022-03-15 00:00:00</th>\n",
       "      <th>2022-03-31 00:00:00</th>\n",
       "      <th>2022-04-15 00:00:00</th>\n",
       "      <th>2022-04-30 00:00:00</th>\n",
       "      <th>2022-05-15 00:00:00</th>\n",
       "      <th>2022-05-31 00:00:00</th>\n",
       "      <th>2022-06-15 00:00:00</th>\n",
       "      <th>2022-06-30 00:00:00</th>\n",
       "      <th>2022-07-15 00:00:00</th>\n",
       "    </tr>\n",
       "  </thead>\n",
       "  <tbody>\n",
       "    <tr>\n",
       "      <th>0</th>\n",
       "      <td>1</td>\n",
       "      <td>Aguascalientes</td>\n",
       "      <td>0</td>\n",
       "      <td>0</td>\n",
       "      <td>0</td>\n",
       "      <td>0</td>\n",
       "      <td>0</td>\n",
       "      <td>0</td>\n",
       "      <td>0</td>\n",
       "      <td>0.0</td>\n",
       "      <td>...</td>\n",
       "      <td>1</td>\n",
       "      <td>2</td>\n",
       "      <td>2</td>\n",
       "      <td>3</td>\n",
       "      <td>2</td>\n",
       "      <td>2</td>\n",
       "      <td>2</td>\n",
       "      <td>1</td>\n",
       "      <td>2</td>\n",
       "      <td>2</td>\n",
       "    </tr>\n",
       "    <tr>\n",
       "      <th>1</th>\n",
       "      <td>1</td>\n",
       "      <td>Aguascalientes</td>\n",
       "      <td>0</td>\n",
       "      <td>0</td>\n",
       "      <td>0</td>\n",
       "      <td>0</td>\n",
       "      <td>0</td>\n",
       "      <td>0</td>\n",
       "      <td>0</td>\n",
       "      <td>0.0</td>\n",
       "      <td>...</td>\n",
       "      <td>1</td>\n",
       "      <td>2</td>\n",
       "      <td>2</td>\n",
       "      <td>2</td>\n",
       "      <td>2</td>\n",
       "      <td>2</td>\n",
       "      <td>2</td>\n",
       "      <td>2</td>\n",
       "      <td>3</td>\n",
       "      <td>3</td>\n",
       "    </tr>\n",
       "    <tr>\n",
       "      <th>2</th>\n",
       "      <td>1</td>\n",
       "      <td>Aguascalientes</td>\n",
       "      <td>0</td>\n",
       "      <td>0</td>\n",
       "      <td>0</td>\n",
       "      <td>0</td>\n",
       "      <td>0</td>\n",
       "      <td>0</td>\n",
       "      <td>0</td>\n",
       "      <td>0.0</td>\n",
       "      <td>...</td>\n",
       "      <td>2</td>\n",
       "      <td>2</td>\n",
       "      <td>2</td>\n",
       "      <td>3</td>\n",
       "      <td>2</td>\n",
       "      <td>2</td>\n",
       "      <td>2</td>\n",
       "      <td>2</td>\n",
       "      <td>2</td>\n",
       "      <td>3</td>\n",
       "    </tr>\n",
       "    <tr>\n",
       "      <th>3</th>\n",
       "      <td>1</td>\n",
       "      <td>Aguascalientes</td>\n",
       "      <td>0</td>\n",
       "      <td>0</td>\n",
       "      <td>0</td>\n",
       "      <td>0</td>\n",
       "      <td>0</td>\n",
       "      <td>0</td>\n",
       "      <td>0</td>\n",
       "      <td>0.0</td>\n",
       "      <td>...</td>\n",
       "      <td>1</td>\n",
       "      <td>1</td>\n",
       "      <td>2</td>\n",
       "      <td>2</td>\n",
       "      <td>2</td>\n",
       "      <td>2</td>\n",
       "      <td>2</td>\n",
       "      <td>2</td>\n",
       "      <td>2</td>\n",
       "      <td>2</td>\n",
       "    </tr>\n",
       "    <tr>\n",
       "      <th>4</th>\n",
       "      <td>1</td>\n",
       "      <td>Aguascalientes</td>\n",
       "      <td>0</td>\n",
       "      <td>0</td>\n",
       "      <td>0</td>\n",
       "      <td>0</td>\n",
       "      <td>0</td>\n",
       "      <td>0</td>\n",
       "      <td>0</td>\n",
       "      <td>0.0</td>\n",
       "      <td>...</td>\n",
       "      <td>1</td>\n",
       "      <td>2</td>\n",
       "      <td>2</td>\n",
       "      <td>2</td>\n",
       "      <td>2</td>\n",
       "      <td>2</td>\n",
       "      <td>2</td>\n",
       "      <td>1</td>\n",
       "      <td>2</td>\n",
       "      <td>2</td>\n",
       "    </tr>\n",
       "    <tr>\n",
       "      <th>...</th>\n",
       "      <td>...</td>\n",
       "      <td>...</td>\n",
       "      <td>...</td>\n",
       "      <td>...</td>\n",
       "      <td>...</td>\n",
       "      <td>...</td>\n",
       "      <td>...</td>\n",
       "      <td>...</td>\n",
       "      <td>...</td>\n",
       "      <td>...</td>\n",
       "      <td>...</td>\n",
       "      <td>...</td>\n",
       "      <td>...</td>\n",
       "      <td>...</td>\n",
       "      <td>...</td>\n",
       "      <td>...</td>\n",
       "      <td>...</td>\n",
       "      <td>...</td>\n",
       "      <td>...</td>\n",
       "      <td>...</td>\n",
       "      <td>...</td>\n",
       "    </tr>\n",
       "    <tr>\n",
       "      <th>2458</th>\n",
       "      <td>32</td>\n",
       "      <td>Zacatecas</td>\n",
       "      <td>0</td>\n",
       "      <td>0</td>\n",
       "      <td>0</td>\n",
       "      <td>0</td>\n",
       "      <td>0</td>\n",
       "      <td>0</td>\n",
       "      <td>0</td>\n",
       "      <td>0.0</td>\n",
       "      <td>...</td>\n",
       "      <td>1</td>\n",
       "      <td>2</td>\n",
       "      <td>2</td>\n",
       "      <td>2</td>\n",
       "      <td>2</td>\n",
       "      <td>2</td>\n",
       "      <td>2</td>\n",
       "      <td>2</td>\n",
       "      <td>3</td>\n",
       "      <td>3</td>\n",
       "    </tr>\n",
       "    <tr>\n",
       "      <th>2459</th>\n",
       "      <td>32</td>\n",
       "      <td>Zacatecas</td>\n",
       "      <td>0</td>\n",
       "      <td>0</td>\n",
       "      <td>0</td>\n",
       "      <td>0</td>\n",
       "      <td>0</td>\n",
       "      <td>0</td>\n",
       "      <td>0</td>\n",
       "      <td>0.0</td>\n",
       "      <td>...</td>\n",
       "      <td>2</td>\n",
       "      <td>3</td>\n",
       "      <td>3</td>\n",
       "      <td>3</td>\n",
       "      <td>2</td>\n",
       "      <td>2</td>\n",
       "      <td>2</td>\n",
       "      <td>2</td>\n",
       "      <td>2</td>\n",
       "      <td>3</td>\n",
       "    </tr>\n",
       "    <tr>\n",
       "      <th>2460</th>\n",
       "      <td>32</td>\n",
       "      <td>Zacatecas</td>\n",
       "      <td>0</td>\n",
       "      <td>0</td>\n",
       "      <td>0</td>\n",
       "      <td>1</td>\n",
       "      <td>1</td>\n",
       "      <td>0</td>\n",
       "      <td>0</td>\n",
       "      <td>0.0</td>\n",
       "      <td>...</td>\n",
       "      <td>1</td>\n",
       "      <td>2</td>\n",
       "      <td>2</td>\n",
       "      <td>2</td>\n",
       "      <td>2</td>\n",
       "      <td>2</td>\n",
       "      <td>2</td>\n",
       "      <td>1</td>\n",
       "      <td>1</td>\n",
       "      <td>1</td>\n",
       "    </tr>\n",
       "    <tr>\n",
       "      <th>2461</th>\n",
       "      <td>32</td>\n",
       "      <td>Zacatecas</td>\n",
       "      <td>0</td>\n",
       "      <td>0</td>\n",
       "      <td>0</td>\n",
       "      <td>1</td>\n",
       "      <td>1</td>\n",
       "      <td>0</td>\n",
       "      <td>0</td>\n",
       "      <td>0.0</td>\n",
       "      <td>...</td>\n",
       "      <td>1</td>\n",
       "      <td>1</td>\n",
       "      <td>1</td>\n",
       "      <td>2</td>\n",
       "      <td>1</td>\n",
       "      <td>1</td>\n",
       "      <td>1</td>\n",
       "      <td>1</td>\n",
       "      <td>1</td>\n",
       "      <td>1</td>\n",
       "    </tr>\n",
       "    <tr>\n",
       "      <th>2462</th>\n",
       "      <td>32</td>\n",
       "      <td>Zacatecas</td>\n",
       "      <td>0</td>\n",
       "      <td>0</td>\n",
       "      <td>0</td>\n",
       "      <td>0</td>\n",
       "      <td>0</td>\n",
       "      <td>0</td>\n",
       "      <td>0</td>\n",
       "      <td>0.0</td>\n",
       "      <td>...</td>\n",
       "      <td>2</td>\n",
       "      <td>3</td>\n",
       "      <td>3</td>\n",
       "      <td>3</td>\n",
       "      <td>3</td>\n",
       "      <td>3</td>\n",
       "      <td>2</td>\n",
       "      <td>1</td>\n",
       "      <td>1</td>\n",
       "      <td>1</td>\n",
       "    </tr>\n",
       "  </tbody>\n",
       "</table>\n",
       "<p>2463 rows × 338 columns</p>\n",
       "</div>"
      ],
      "text/plain": [
       "      CVE_ENT         ENTIDAD 2003-01-31 00:00:00 2003-02-28 00:00:00  \\\n",
       "0           1  Aguascalientes                   0                   0   \n",
       "1           1  Aguascalientes                   0                   0   \n",
       "2           1  Aguascalientes                   0                   0   \n",
       "3           1  Aguascalientes                   0                   0   \n",
       "4           1  Aguascalientes                   0                   0   \n",
       "...       ...             ...                 ...                 ...   \n",
       "2458       32       Zacatecas                   0                   0   \n",
       "2459       32       Zacatecas                   0                   0   \n",
       "2460       32       Zacatecas                   0                   0   \n",
       "2461       32       Zacatecas                   0                   0   \n",
       "2462       32       Zacatecas                   0                   0   \n",
       "\n",
       "     2003-03-31 00:00:00 2003-04-30 00:00:00 2003-05-31 00:00:00  \\\n",
       "0                      0                   0                   0   \n",
       "1                      0                   0                   0   \n",
       "2                      0                   0                   0   \n",
       "3                      0                   0                   0   \n",
       "4                      0                   0                   0   \n",
       "...                  ...                 ...                 ...   \n",
       "2458                   0                   0                   0   \n",
       "2459                   0                   0                   0   \n",
       "2460                   0                   1                   1   \n",
       "2461                   0                   1                   1   \n",
       "2462                   0                   0                   0   \n",
       "\n",
       "     2003-06-30 00:00:00 2003-07-31 00:00:00  2003-08-31 00:00:00  ...  \\\n",
       "0                      0                   0                  0.0  ...   \n",
       "1                      0                   0                  0.0  ...   \n",
       "2                      0                   0                  0.0  ...   \n",
       "3                      0                   0                  0.0  ...   \n",
       "4                      0                   0                  0.0  ...   \n",
       "...                  ...                 ...                  ...  ...   \n",
       "2458                   0                   0                  0.0  ...   \n",
       "2459                   0                   0                  0.0  ...   \n",
       "2460                   0                   0                  0.0  ...   \n",
       "2461                   0                   0                  0.0  ...   \n",
       "2462                   0                   0                  0.0  ...   \n",
       "\n",
       "     2022-02-28 00:00:00 2022-03-15 00:00:00 2022-03-31 00:00:00  \\\n",
       "0                      1                   2                   2   \n",
       "1                      1                   2                   2   \n",
       "2                      2                   2                   2   \n",
       "3                      1                   1                   2   \n",
       "4                      1                   2                   2   \n",
       "...                  ...                 ...                 ...   \n",
       "2458                   1                   2                   2   \n",
       "2459                   2                   3                   3   \n",
       "2460                   1                   2                   2   \n",
       "2461                   1                   1                   1   \n",
       "2462                   2                   3                   3   \n",
       "\n",
       "     2022-04-15 00:00:00 2022-04-30 00:00:00  2022-05-15 00:00:00  \\\n",
       "0                      3                   2                    2   \n",
       "1                      2                   2                    2   \n",
       "2                      3                   2                    2   \n",
       "3                      2                   2                    2   \n",
       "4                      2                   2                    2   \n",
       "...                  ...                 ...                  ...   \n",
       "2458                   2                   2                    2   \n",
       "2459                   3                   2                    2   \n",
       "2460                   2                   2                    2   \n",
       "2461                   2                   1                    1   \n",
       "2462                   3                   3                    3   \n",
       "\n",
       "     2022-05-31 00:00:00 2022-06-15 00:00:00 2022-06-30 00:00:00  \\\n",
       "0                      2                   1                   2   \n",
       "1                      2                   2                   3   \n",
       "2                      2                   2                   2   \n",
       "3                      2                   2                   2   \n",
       "4                      2                   1                   2   \n",
       "...                  ...                 ...                 ...   \n",
       "2458                   2                   2                   3   \n",
       "2459                   2                   2                   2   \n",
       "2460                   2                   1                   1   \n",
       "2461                   1                   1                   1   \n",
       "2462                   2                   1                   1   \n",
       "\n",
       "     2022-07-15 00:00:00  \n",
       "0                      2  \n",
       "1                      3  \n",
       "2                      3  \n",
       "3                      2  \n",
       "4                      2  \n",
       "...                  ...  \n",
       "2458                   3  \n",
       "2459                   3  \n",
       "2460                   1  \n",
       "2461                   1  \n",
       "2462                   1  \n",
       "\n",
       "[2463 rows x 338 columns]"
      ]
     },
     "execution_count": 16,
     "metadata": {},
     "output_type": "execute_result"
    }
   ],
   "source": [
    "sequias_df2\n"
   ]
  },
  {
   "cell_type": "code",
   "execution_count": 17,
   "metadata": {},
   "outputs": [
    {
     "data": {
      "text/plain": [
       "0    2\n",
       "Name: 2022-03-31 00:00:00, dtype: object"
      ]
     },
     "execution_count": 17,
     "metadata": {},
     "output_type": "execute_result"
    }
   ],
   "source": [
    "sequias_df2.iloc[:1,330]"
   ]
  },
  {
   "cell_type": "markdown",
   "metadata": {},
   "source": [
    "SACAR LAS COLUMNAS"
   ]
  },
  {
   "cell_type": "code",
   "execution_count": 18,
   "metadata": {},
   "outputs": [],
   "source": [
    "sequias_df2.drop(['CVE_ENT','ENTIDAD'], axis=1, inplace=True)"
   ]
  },
  {
   "cell_type": "code",
   "execution_count": 19,
   "metadata": {},
   "outputs": [],
   "source": [
    "vista=sequias_df2.iloc[:,:]"
   ]
  },
  {
   "cell_type": "code",
   "execution_count": 20,
   "metadata": {},
   "outputs": [],
   "source": [
    "\n",
    "vista=np.asarray(vista)\n",
    "vista=vista.astype(int)"
   ]
  },
  {
   "cell_type": "code",
   "execution_count": 21,
   "metadata": {},
   "outputs": [
    {
     "data": {
      "text/plain": [
       "array([[0, 0, 0, 0, 0, 0, 0, 0, 0, 0, 0, 0, 0, 0, 0, 0, 0, 0, 0, 0, 0, 0,\n",
       "        0, 0, 0, 0, 0, 0, 0, 1, 1, 0, 1, 1, 1, 1, 1, 2, 3, 3, 3, 3, 2, 1,\n",
       "        1, 0, 0, 0, 0, 0, 0, 2, 1, 2, 1, 0, 2, 3, 1, 1, 3, 2, 2, 2, 2, 2,\n",
       "        1, 1, 0, 0, 0, 0, 0, 0, 0, 0, 0, 0, 1, 2, 2, 2, 2, 1, 1, 0, 0, 0,\n",
       "        0, 0, 0, 0, 0, 0, 0, 0, 1, 1, 1, 3, 3, 3, 4, 3, 3, 4, 5, 5, 5, 2,\n",
       "        3, 2, 1, 1, 1, 1, 0, 1, 1, 0, 0, 0, 0, 0, 2, 2, 0, 1, 0, 0, 0, 0,\n",
       "        0, 0, 0, 0, 0, 0, 1, 0, 0, 0, 0, 0, 0, 0, 0, 0, 1, 1, 0, 0, 0, 0,\n",
       "        0, 0, 0, 0, 0, 0, 0, 0, 0, 0, 0, 0, 0, 0, 0, 1, 1, 1, 1, 1, 1, 0,\n",
       "        0, 0, 0, 0, 0, 0, 0, 0, 0, 0, 0, 1, 1, 1, 1, 1, 1, 1, 1, 1, 0, 0,\n",
       "        0, 0, 0, 0, 0, 0, 0, 0, 1, 1, 1, 1, 1, 1, 1, 1, 2, 2, 2, 2, 1, 2,\n",
       "        2, 2, 2, 2, 2, 2, 2, 2, 2, 2, 1, 1, 1, 1, 1, 1, 1, 0, 0, 0, 0, 1,\n",
       "        1, 1, 0, 0, 0, 0, 0, 0, 0, 0, 0, 0, 0, 0, 0, 1, 1, 1, 1, 1, 2, 2,\n",
       "        2, 2, 2, 1, 1, 1, 1, 1, 0, 0, 0, 0, 0, 0, 0, 0, 0, 0, 0, 0, 0, 1,\n",
       "        1, 1, 1, 2, 2, 2, 2, 3, 3, 3, 3, 3, 3, 3, 3, 3, 3, 3, 3, 2, 2, 2,\n",
       "        3, 3, 2, 1, 1, 0, 0, 0, 0, 0, 0, 0, 0, 0, 0, 0, 1, 1, 2, 3, 3, 3,\n",
       "        3, 3, 2, 1, 1, 1]])"
      ]
     },
     "execution_count": 21,
     "metadata": {},
     "output_type": "execute_result"
    }
   ],
   "source": [
    "vista[2462:2463]"
   ]
  },
  {
   "cell_type": "code",
   "execution_count": 22,
   "metadata": {},
   "outputs": [],
   "source": [
    "#vista[[0][0]]"
   ]
  },
  {
   "cell_type": "code",
   "execution_count": 23,
   "metadata": {},
   "outputs": [],
   "source": [
    "sequias_df2.to_csv('MODELO_CSV.csv')"
   ]
  },
  {
   "cell_type": "code",
   "execution_count": 24,
   "metadata": {},
   "outputs": [],
   "source": [
    "vista2=pd.unique(sequias_df['ENTIDAD'])"
   ]
  },
  {
   "cell_type": "code",
   "execution_count": 25,
   "metadata": {},
   "outputs": [
    {
     "data": {
      "text/plain": [
       "array(['Aguascalientes', 'Baja California', 'Baja California Sur',\n",
       "       'Campeche', 'Coahuila de Zaragoza', 'Colima', 'Chiapas',\n",
       "       'Chihuahua', 'Ciudad de México', 'Durango', 'Guanajuato',\n",
       "       'Guerrero', 'Hidalgo', 'Jalisco', 'Estado de México',\n",
       "       'Michoacán de Ocampo', 'Morelos', 'Nayarit', 'Nuevo León',\n",
       "       'Oaxaca', 'Puebla', 'Querétaro de Arteaga', 'Quintana Roo',\n",
       "       'San Luis Potosí', 'Sinaloa', 'Sonora', 'Tabasco', 'Tamaulipas',\n",
       "       'Tlaxcala', 'Veracruz de Ignacio de la Llave', 'Yucatán',\n",
       "       'Zacatecas'], dtype=object)"
      ]
     },
     "execution_count": 25,
     "metadata": {},
     "output_type": "execute_result"
    }
   ],
   "source": [
    "vista2"
   ]
  },
  {
   "cell_type": "code",
   "execution_count": 26,
   "metadata": {},
   "outputs": [],
   "source": [
    "vista3=pd.unique(sequias_df['CVE_ENT'])"
   ]
  },
  {
   "cell_type": "code",
   "execution_count": 27,
   "metadata": {},
   "outputs": [
    {
     "data": {
      "image/png": "[encoded data removed]",
      "text/plain": [
       "<Figure size 432x288 with 1 Axes>"
      ]
     },
     "metadata": {},
     "output_type": "display_data"
    }
   ],
   "source": [
    "\n",
    "plt.pie(vista3,labels=vista2)\n",
    "\n",
    "\n",
    "plt.show()"
   ]
  },
  {
   "cell_type": "code",
   "execution_count": 28,
   "metadata": {},
   "outputs": [],
   "source": [
    "listaFecha=[]"
   ]
  },
  {
   "cell_type": "code",
   "execution_count": 29,
   "metadata": {},
   "outputs": [],
   "source": [
    "for a in sequias_df2.columns:\n",
    "    listaFecha.append(a)\n",
    "    "
   ]
  },
  {
   "cell_type": "code",
   "execution_count": 30,
   "metadata": {},
   "outputs": [],
   "source": [
    "sequiaClas=1\n",
    "select_fil=sequias_df2.iloc[sequiaClas]\n",
    "#select_fil=select_fil.astype(int)"
   ]
  },
  {
   "cell_type": "code",
   "execution_count": 31,
   "metadata": {},
   "outputs": [
    {
     "data": {
      "text/plain": [
       "2003-01-31    0\n",
       "2003-02-28    0\n",
       "2003-03-31    0\n",
       "2003-04-30    0\n",
       "2003-05-31    0\n",
       "             ..\n",
       "2022-05-15    2\n",
       "2022-05-31    2\n",
       "2022-06-15    2\n",
       "2022-06-30    3\n",
       "2022-07-15    3\n",
       "Name: 1, Length: 336, dtype: object"
      ]
     },
     "execution_count": 31,
     "metadata": {},
     "output_type": "execute_result"
    }
   ],
   "source": [
    "select_fil"
   ]
  },
  {
   "cell_type": "code",
   "execution_count": 32,
   "metadata": {},
   "outputs": [],
   "source": [
    "lista=pd.to_datetime(listaFecha)"
   ]
  },
  {
   "cell_type": "code",
   "execution_count": 33,
   "metadata": {},
   "outputs": [
    {
     "data": {
      "image/png": "[encoded data removed]",
      "text/plain": [
       "<Figure size 432x288 with 1 Axes>"
      ]
     },
     "metadata": {
      "needs_background": "light"
     },
     "output_type": "display_data"
    }
   ],
   "source": [
    "plt.figure()\n",
    "plt.grid()\n",
    "plt.title('Regresión lineal')\n",
    "plt.xlabel(sequias_df.iloc[sequiaClas,1])\n",
    "plt.ylabel('escala de sequia')\n",
    "plt.plot(listaFecha,select_fil,'r-')\n",
    "plt.legend(['datos'])\n",
    "plt.show()"
   ]
  },
  {
   "cell_type": "code",
   "execution_count": 34,
   "metadata": {},
   "outputs": [],
   "source": [
    "#f['year'] = pd.DatetimeIndex(f['fecha']).year\n",
    "#f['month'] = pd.DatetimeIndex(f['registrado']).month\n",
    "#f['day'] = pd.DatetimeIndex(f['registrado']).day\n",
    "#f['hour'] = pd.DatetimeIndex(f['registrado']).hour\n",
    "#print(f)"
   ]
  },
  {
   "cell_type": "code",
   "execution_count": null,
   "metadata": {},
   "outputs": [],
   "source": []
  },
  {
   "cell_type": "code",
   "execution_count": 35,
   "metadata": {},
   "outputs": [],
   "source": [
    "promedioMun=0\n",
    "listaPromMun=[]\n",
    "sumaProm=0\n",
    "tamaño=sequias_df2.iloc[:1,:].shape\n",
    "auxsum=0\n",
    "listaFechacambio=[]\n",
    "#for k in range(len(vista)):\n",
    "for j in range(tamaño[1]):\n",
    "        listaFechacambio.append(j)\n",
    "        sumaProm=sumaProm+vista[100,j]\n",
    "\n",
    "        promedioMun=sumaProm/(j+1)\n",
    "        #print(promedioMun)\n",
    "        listaPromMun.append(promedioMun)\n"
   ]
  },
  {
   "cell_type": "code",
   "execution_count": 36,
   "metadata": {},
   "outputs": [
    {
     "name": "stdout",
     "output_type": "stream",
     "text": [
      "0.7777777777777778\n"
     ]
    }
   ],
   "source": [
    "print(max(listaPromMun))"
   ]
  },
  {
   "cell_type": "code",
   "execution_count": 37,
   "metadata": {},
   "outputs": [
    {
     "data": {
      "image/png": "[encoded data removed]",
      "text/plain": [
       "<Figure size 1080x720 with 1 Axes>"
      ]
     },
     "metadata": {
      "needs_background": "light"
     },
     "output_type": "display_data"
    }
   ],
   "source": [
    "plt.figure(figsize=(15,10))\n",
    "plt.grid()\n",
    "plt.title('Sequia en municipio/estado',fontsize=20)\n",
    "plt.xlabel(sequias_df.iloc[0,1],fontsize=20)\n",
    "plt.ylabel('porcentaje de sequias',fontsize=20)\n",
    "plt.plot(listaFecha,listaPromMun,'g-')\n",
    "plt.legend(['% sequias'])\n",
    "\n",
    "plt.ylim(-0.1,max(listaPromMun)+0.1)\n",
    "plt.show()"
   ]
  },
  {
   "cell_type": "markdown",
   "metadata": {},
   "source": [
    "IA no lineal"
   ]
  },
  {
   "cell_type": "code",
   "execution_count": 38,
   "metadata": {},
   "outputs": [],
   "source": [
    "from sklearn.preprocessing import PolynomialFeatures\n",
    "from sklearn.linear_model import LinearRegression\n",
    "from sklearn.model_selection import train_test_split\n",
    "from sklearn.preprocessing import StandardScaler\n",
    "from sklearn.pipeline import  Pipeline\n",
    "from sklearn.linear_model import Ridge\n",
    "from sklearn.metrics import r2_score"
   ]
  },
  {
   "cell_type": "code",
   "execution_count": 39,
   "metadata": {},
   "outputs": [],
   "source": [
    "data=pd.DataFrame()"
   ]
  },
  {
   "cell_type": "code",
   "execution_count": 40,
   "metadata": {},
   "outputs": [],
   "source": [
    "data['y']=listaPromMun"
   ]
  },
  {
   "cell_type": "code",
   "execution_count": 41,
   "metadata": {},
   "outputs": [],
   "source": [
    "data['x1']=listaFechacambio"
   ]
  },
  {
   "cell_type": "code",
   "execution_count": 42,
   "metadata": {},
   "outputs": [],
   "source": [
    "xm=data.drop(['y'],axis=1)"
   ]
  },
  {
   "cell_type": "code",
   "execution_count": 43,
   "metadata": {},
   "outputs": [],
   "source": [
    "ym=data['y']"
   ]
  },
  {
   "cell_type": "code",
   "execution_count": 44,
   "metadata": {},
   "outputs": [
    {
     "data": {
      "text/html": [
       "<div>\n",
       "<style scoped>\n",
       "    .dataframe tbody tr th:only-of-type {\n",
       "        vertical-align: middle;\n",
       "    }\n",
       "\n",
       "    .dataframe tbody tr th {\n",
       "        vertical-align: top;\n",
       "    }\n",
       "\n",
       "    .dataframe thead th {\n",
       "        text-align: right;\n",
       "    }\n",
       "</style>\n",
       "<table border=\"1\" class=\"dataframe\">\n",
       "  <thead>\n",
       "    <tr style=\"text-align: right;\">\n",
       "      <th></th>\n",
       "      <th>y</th>\n",
       "      <th>x1</th>\n",
       "    </tr>\n",
       "  </thead>\n",
       "  <tbody>\n",
       "    <tr>\n",
       "      <th>0</th>\n",
       "      <td>0.000000</td>\n",
       "      <td>0</td>\n",
       "    </tr>\n",
       "    <tr>\n",
       "      <th>1</th>\n",
       "      <td>0.000000</td>\n",
       "      <td>1</td>\n",
       "    </tr>\n",
       "    <tr>\n",
       "      <th>2</th>\n",
       "      <td>0.000000</td>\n",
       "      <td>2</td>\n",
       "    </tr>\n",
       "    <tr>\n",
       "      <th>3</th>\n",
       "      <td>0.000000</td>\n",
       "      <td>3</td>\n",
       "    </tr>\n",
       "    <tr>\n",
       "      <th>4</th>\n",
       "      <td>0.000000</td>\n",
       "      <td>4</td>\n",
       "    </tr>\n",
       "    <tr>\n",
       "      <th>...</th>\n",
       "      <td>...</td>\n",
       "      <td>...</td>\n",
       "    </tr>\n",
       "    <tr>\n",
       "      <th>331</th>\n",
       "      <td>0.563253</td>\n",
       "      <td>331</td>\n",
       "    </tr>\n",
       "    <tr>\n",
       "      <th>332</th>\n",
       "      <td>0.561562</td>\n",
       "      <td>332</td>\n",
       "    </tr>\n",
       "    <tr>\n",
       "      <th>333</th>\n",
       "      <td>0.559880</td>\n",
       "      <td>333</td>\n",
       "    </tr>\n",
       "    <tr>\n",
       "      <th>334</th>\n",
       "      <td>0.558209</td>\n",
       "      <td>334</td>\n",
       "    </tr>\n",
       "    <tr>\n",
       "      <th>335</th>\n",
       "      <td>0.556548</td>\n",
       "      <td>335</td>\n",
       "    </tr>\n",
       "  </tbody>\n",
       "</table>\n",
       "<p>336 rows × 2 columns</p>\n",
       "</div>"
      ],
      "text/plain": [
       "            y   x1\n",
       "0    0.000000    0\n",
       "1    0.000000    1\n",
       "2    0.000000    2\n",
       "3    0.000000    3\n",
       "4    0.000000    4\n",
       "..        ...  ...\n",
       "331  0.563253  331\n",
       "332  0.561562  332\n",
       "333  0.559880  333\n",
       "334  0.558209  334\n",
       "335  0.556548  335\n",
       "\n",
       "[336 rows x 2 columns]"
      ]
     },
     "execution_count": 44,
     "metadata": {},
     "output_type": "execute_result"
    }
   ],
   "source": [
    "data"
   ]
  },
  {
   "cell_type": "code",
   "execution_count": 45,
   "metadata": {},
   "outputs": [
    {
     "data": {
      "text/html": [
       "<div>\n",
       "<style scoped>\n",
       "    .dataframe tbody tr th:only-of-type {\n",
       "        vertical-align: middle;\n",
       "    }\n",
       "\n",
       "    .dataframe tbody tr th {\n",
       "        vertical-align: top;\n",
       "    }\n",
       "\n",
       "    .dataframe thead th {\n",
       "        text-align: right;\n",
       "    }\n",
       "</style>\n",
       "<table border=\"1\" class=\"dataframe\">\n",
       "  <thead>\n",
       "    <tr style=\"text-align: right;\">\n",
       "      <th></th>\n",
       "      <th>x1</th>\n",
       "    </tr>\n",
       "  </thead>\n",
       "  <tbody>\n",
       "    <tr>\n",
       "      <th>0</th>\n",
       "      <td>0</td>\n",
       "    </tr>\n",
       "    <tr>\n",
       "      <th>1</th>\n",
       "      <td>1</td>\n",
       "    </tr>\n",
       "    <tr>\n",
       "      <th>2</th>\n",
       "      <td>2</td>\n",
       "    </tr>\n",
       "    <tr>\n",
       "      <th>3</th>\n",
       "      <td>3</td>\n",
       "    </tr>\n",
       "    <tr>\n",
       "      <th>4</th>\n",
       "      <td>4</td>\n",
       "    </tr>\n",
       "    <tr>\n",
       "      <th>...</th>\n",
       "      <td>...</td>\n",
       "    </tr>\n",
       "    <tr>\n",
       "      <th>331</th>\n",
       "      <td>331</td>\n",
       "    </tr>\n",
       "    <tr>\n",
       "      <th>332</th>\n",
       "      <td>332</td>\n",
       "    </tr>\n",
       "    <tr>\n",
       "      <th>333</th>\n",
       "      <td>333</td>\n",
       "    </tr>\n",
       "    <tr>\n",
       "      <th>334</th>\n",
       "      <td>334</td>\n",
       "    </tr>\n",
       "    <tr>\n",
       "      <th>335</th>\n",
       "      <td>335</td>\n",
       "    </tr>\n",
       "  </tbody>\n",
       "</table>\n",
       "<p>336 rows × 1 columns</p>\n",
       "</div>"
      ],
      "text/plain": [
       "      x1\n",
       "0      0\n",
       "1      1\n",
       "2      2\n",
       "3      3\n",
       "4      4\n",
       "..   ...\n",
       "331  331\n",
       "332  332\n",
       "333  333\n",
       "334  334\n",
       "335  335\n",
       "\n",
       "[336 rows x 1 columns]"
      ]
     },
     "execution_count": 45,
     "metadata": {},
     "output_type": "execute_result"
    }
   ],
   "source": [
    "xm"
   ]
  },
  {
   "cell_type": "code",
   "execution_count": 46,
   "metadata": {},
   "outputs": [
    {
     "data": {
      "text/plain": [
       "0      0.000000\n",
       "1      0.000000\n",
       "2      0.000000\n",
       "3      0.000000\n",
       "4      0.000000\n",
       "         ...   \n",
       "331    0.563253\n",
       "332    0.561562\n",
       "333    0.559880\n",
       "334    0.558209\n",
       "335    0.556548\n",
       "Name: y, Length: 336, dtype: float64"
      ]
     },
     "execution_count": 46,
     "metadata": {},
     "output_type": "execute_result"
    }
   ],
   "source": [
    "ym"
   ]
  },
  {
   "cell_type": "code",
   "execution_count": 47,
   "metadata": {},
   "outputs": [],
   "source": [
    "dpol=9 #5,10,9,8\n",
    "alpha=0.0"
   ]
  },
  {
   "cell_type": "code",
   "execution_count": 74,
   "metadata": {},
   "outputs": [
    {
     "name": "stdout",
     "output_type": "stream",
     "text": [
      "Error entrenamiento:  0.7415073321793423\n",
      "Error generalización:  0.776294202287123\n"
     ]
    }
   ],
   "source": [
    "  # Obtenemos datos de entrenamiento y de generalización\n",
    "x_ent, x_gen, y_ent, y_gen = train_test_split(xm,ym)\n",
    "  # Modelo de regresión no lineal\n",
    "model = Pipeline([('poly',PolynomialFeatures(degree=dpol)),('scaler',StandardScaler()),('reg',Ridge(alpha))])\n",
    "model.fit(x_ent,y_ent)\n",
    "  # Se imprime en pantalla el error de valores de entrenemiento y error de valores de generalización\n",
    "print('Error entrenamiento: ',model.score(x_ent,y_ent))\n",
    "print('Error generalización: ',model.score(x_gen,y_gen))"
   ]
  },
  {
   "cell_type": "code",
   "execution_count": 76,
   "metadata": {},
   "outputs": [
    {
     "data": {
      "image/png": "[encoded data removed]",
      "text/plain": [
       "<Figure size 432x288 with 1 Axes>"
      ]
     },
     "metadata": {
      "needs_background": "light"
     },
     "output_type": "display_data"
    }
   ],
   "source": [
    "# Imprimelas gráficas\n",
    "x_plot=xm\n",
    "y_plot = model.predict(x_plot)\n",
    "plt.figure()\n",
    "plt.grid()\n",
    "plt.title('Regresión no lineal')\n",
    "plt.xlabel('x')\n",
    "plt.ylabel('y')\n",
    "plt.ylim(-0.1,max(listaPromMun)+0.1)\n",
    "plt.plot(x_ent,y_ent,'ro')\n",
    "plt.plot(x_gen,y_gen,'b*')\n",
    "plt.plot(x_plot,y_plot,'g-',lw=4)\n",
    "\n",
    "plt.legend(['Entrenamiento','Generalización','Predicción'])\n",
    "plt.show()"
   ]
  },
  {
   "cell_type": "code",
   "execution_count": 50,
   "metadata": {},
   "outputs": [],
   "source": [
    "lista2=[]\n",
    "resultado=0\n",
    "lista3=[]\n",
    "\n",
    "for x in range(len(vista)):\n",
    "    resultado=vista[x:x+1].sum(axis=1)/335\n",
    "    lista3.append(resultado)\n",
    "    if resultado>0.6:\n",
    "        lista2.append(1)\n",
    "    else:\n",
    "        lista2.append(0)  \n",
    "    "
   ]
  },
  {
   "cell_type": "code",
   "execution_count": 51,
   "metadata": {},
   "outputs": [],
   "source": [
    "sequias_df2['CLASIFICACION']=lista2"
   ]
  },
  {
   "cell_type": "code",
   "execution_count": 52,
   "metadata": {},
   "outputs": [
    {
     "data": {
      "text/html": [
       "<div>\n",
       "<style scoped>\n",
       "    .dataframe tbody tr th:only-of-type {\n",
       "        vertical-align: middle;\n",
       "    }\n",
       "\n",
       "    .dataframe tbody tr th {\n",
       "        vertical-align: top;\n",
       "    }\n",
       "\n",
       "    .dataframe thead th {\n",
       "        text-align: right;\n",
       "    }\n",
       "</style>\n",
       "<table border=\"1\" class=\"dataframe\">\n",
       "  <thead>\n",
       "    <tr style=\"text-align: right;\">\n",
       "      <th></th>\n",
       "      <th>2003-01-31 00:00:00</th>\n",
       "      <th>2003-02-28 00:00:00</th>\n",
       "      <th>2003-03-31 00:00:00</th>\n",
       "      <th>2003-04-30 00:00:00</th>\n",
       "      <th>2003-05-31 00:00:00</th>\n",
       "      <th>2003-06-30 00:00:00</th>\n",
       "      <th>2003-07-31 00:00:00</th>\n",
       "      <th>2003-08-31 00:00:00</th>\n",
       "      <th>2003-09-30 00:00:00</th>\n",
       "      <th>2003-10-31 00:00:00</th>\n",
       "      <th>...</th>\n",
       "      <th>2022-03-15 00:00:00</th>\n",
       "      <th>2022-03-31 00:00:00</th>\n",
       "      <th>2022-04-15 00:00:00</th>\n",
       "      <th>2022-04-30 00:00:00</th>\n",
       "      <th>2022-05-15 00:00:00</th>\n",
       "      <th>2022-05-31 00:00:00</th>\n",
       "      <th>2022-06-15 00:00:00</th>\n",
       "      <th>2022-06-30 00:00:00</th>\n",
       "      <th>2022-07-15 00:00:00</th>\n",
       "      <th>CLASIFICACION</th>\n",
       "    </tr>\n",
       "  </thead>\n",
       "  <tbody>\n",
       "    <tr>\n",
       "      <th>0</th>\n",
       "      <td>0</td>\n",
       "      <td>0</td>\n",
       "      <td>0</td>\n",
       "      <td>0</td>\n",
       "      <td>0</td>\n",
       "      <td>0</td>\n",
       "      <td>0</td>\n",
       "      <td>0.0</td>\n",
       "      <td>0</td>\n",
       "      <td>0</td>\n",
       "      <td>...</td>\n",
       "      <td>2</td>\n",
       "      <td>2</td>\n",
       "      <td>3</td>\n",
       "      <td>2</td>\n",
       "      <td>2</td>\n",
       "      <td>2</td>\n",
       "      <td>1</td>\n",
       "      <td>2</td>\n",
       "      <td>2</td>\n",
       "      <td>0</td>\n",
       "    </tr>\n",
       "    <tr>\n",
       "      <th>1</th>\n",
       "      <td>0</td>\n",
       "      <td>0</td>\n",
       "      <td>0</td>\n",
       "      <td>0</td>\n",
       "      <td>0</td>\n",
       "      <td>0</td>\n",
       "      <td>0</td>\n",
       "      <td>0.0</td>\n",
       "      <td>0</td>\n",
       "      <td>0</td>\n",
       "      <td>...</td>\n",
       "      <td>2</td>\n",
       "      <td>2</td>\n",
       "      <td>2</td>\n",
       "      <td>2</td>\n",
       "      <td>2</td>\n",
       "      <td>2</td>\n",
       "      <td>2</td>\n",
       "      <td>3</td>\n",
       "      <td>3</td>\n",
       "      <td>0</td>\n",
       "    </tr>\n",
       "    <tr>\n",
       "      <th>2</th>\n",
       "      <td>0</td>\n",
       "      <td>0</td>\n",
       "      <td>0</td>\n",
       "      <td>0</td>\n",
       "      <td>0</td>\n",
       "      <td>0</td>\n",
       "      <td>0</td>\n",
       "      <td>0.0</td>\n",
       "      <td>0</td>\n",
       "      <td>0</td>\n",
       "      <td>...</td>\n",
       "      <td>2</td>\n",
       "      <td>2</td>\n",
       "      <td>3</td>\n",
       "      <td>2</td>\n",
       "      <td>2</td>\n",
       "      <td>2</td>\n",
       "      <td>2</td>\n",
       "      <td>2</td>\n",
       "      <td>3</td>\n",
       "      <td>0</td>\n",
       "    </tr>\n",
       "    <tr>\n",
       "      <th>3</th>\n",
       "      <td>0</td>\n",
       "      <td>0</td>\n",
       "      <td>0</td>\n",
       "      <td>0</td>\n",
       "      <td>0</td>\n",
       "      <td>0</td>\n",
       "      <td>0</td>\n",
       "      <td>0.0</td>\n",
       "      <td>0</td>\n",
       "      <td>0</td>\n",
       "      <td>...</td>\n",
       "      <td>1</td>\n",
       "      <td>2</td>\n",
       "      <td>2</td>\n",
       "      <td>2</td>\n",
       "      <td>2</td>\n",
       "      <td>2</td>\n",
       "      <td>2</td>\n",
       "      <td>2</td>\n",
       "      <td>2</td>\n",
       "      <td>0</td>\n",
       "    </tr>\n",
       "    <tr>\n",
       "      <th>4</th>\n",
       "      <td>0</td>\n",
       "      <td>0</td>\n",
       "      <td>0</td>\n",
       "      <td>0</td>\n",
       "      <td>0</td>\n",
       "      <td>0</td>\n",
       "      <td>0</td>\n",
       "      <td>0.0</td>\n",
       "      <td>0</td>\n",
       "      <td>0</td>\n",
       "      <td>...</td>\n",
       "      <td>2</td>\n",
       "      <td>2</td>\n",
       "      <td>2</td>\n",
       "      <td>2</td>\n",
       "      <td>2</td>\n",
       "      <td>2</td>\n",
       "      <td>1</td>\n",
       "      <td>2</td>\n",
       "      <td>2</td>\n",
       "      <td>0</td>\n",
       "    </tr>\n",
       "    <tr>\n",
       "      <th>...</th>\n",
       "      <td>...</td>\n",
       "      <td>...</td>\n",
       "      <td>...</td>\n",
       "      <td>...</td>\n",
       "      <td>...</td>\n",
       "      <td>...</td>\n",
       "      <td>...</td>\n",
       "      <td>...</td>\n",
       "      <td>...</td>\n",
       "      <td>...</td>\n",
       "      <td>...</td>\n",
       "      <td>...</td>\n",
       "      <td>...</td>\n",
       "      <td>...</td>\n",
       "      <td>...</td>\n",
       "      <td>...</td>\n",
       "      <td>...</td>\n",
       "      <td>...</td>\n",
       "      <td>...</td>\n",
       "      <td>...</td>\n",
       "      <td>...</td>\n",
       "    </tr>\n",
       "    <tr>\n",
       "      <th>2458</th>\n",
       "      <td>0</td>\n",
       "      <td>0</td>\n",
       "      <td>0</td>\n",
       "      <td>0</td>\n",
       "      <td>0</td>\n",
       "      <td>0</td>\n",
       "      <td>0</td>\n",
       "      <td>0.0</td>\n",
       "      <td>0</td>\n",
       "      <td>0</td>\n",
       "      <td>...</td>\n",
       "      <td>2</td>\n",
       "      <td>2</td>\n",
       "      <td>2</td>\n",
       "      <td>2</td>\n",
       "      <td>2</td>\n",
       "      <td>2</td>\n",
       "      <td>2</td>\n",
       "      <td>3</td>\n",
       "      <td>3</td>\n",
       "      <td>0</td>\n",
       "    </tr>\n",
       "    <tr>\n",
       "      <th>2459</th>\n",
       "      <td>0</td>\n",
       "      <td>0</td>\n",
       "      <td>0</td>\n",
       "      <td>0</td>\n",
       "      <td>0</td>\n",
       "      <td>0</td>\n",
       "      <td>0</td>\n",
       "      <td>0.0</td>\n",
       "      <td>0</td>\n",
       "      <td>0</td>\n",
       "      <td>...</td>\n",
       "      <td>3</td>\n",
       "      <td>3</td>\n",
       "      <td>3</td>\n",
       "      <td>2</td>\n",
       "      <td>2</td>\n",
       "      <td>2</td>\n",
       "      <td>2</td>\n",
       "      <td>2</td>\n",
       "      <td>3</td>\n",
       "      <td>1</td>\n",
       "    </tr>\n",
       "    <tr>\n",
       "      <th>2460</th>\n",
       "      <td>0</td>\n",
       "      <td>0</td>\n",
       "      <td>0</td>\n",
       "      <td>1</td>\n",
       "      <td>1</td>\n",
       "      <td>0</td>\n",
       "      <td>0</td>\n",
       "      <td>0.0</td>\n",
       "      <td>0</td>\n",
       "      <td>0</td>\n",
       "      <td>...</td>\n",
       "      <td>2</td>\n",
       "      <td>2</td>\n",
       "      <td>2</td>\n",
       "      <td>2</td>\n",
       "      <td>2</td>\n",
       "      <td>2</td>\n",
       "      <td>1</td>\n",
       "      <td>1</td>\n",
       "      <td>1</td>\n",
       "      <td>0</td>\n",
       "    </tr>\n",
       "    <tr>\n",
       "      <th>2461</th>\n",
       "      <td>0</td>\n",
       "      <td>0</td>\n",
       "      <td>0</td>\n",
       "      <td>1</td>\n",
       "      <td>1</td>\n",
       "      <td>0</td>\n",
       "      <td>0</td>\n",
       "      <td>0.0</td>\n",
       "      <td>0</td>\n",
       "      <td>0</td>\n",
       "      <td>...</td>\n",
       "      <td>1</td>\n",
       "      <td>1</td>\n",
       "      <td>2</td>\n",
       "      <td>1</td>\n",
       "      <td>1</td>\n",
       "      <td>1</td>\n",
       "      <td>1</td>\n",
       "      <td>1</td>\n",
       "      <td>1</td>\n",
       "      <td>0</td>\n",
       "    </tr>\n",
       "    <tr>\n",
       "      <th>2462</th>\n",
       "      <td>0</td>\n",
       "      <td>0</td>\n",
       "      <td>0</td>\n",
       "      <td>0</td>\n",
       "      <td>0</td>\n",
       "      <td>0</td>\n",
       "      <td>0</td>\n",
       "      <td>0.0</td>\n",
       "      <td>0</td>\n",
       "      <td>0</td>\n",
       "      <td>...</td>\n",
       "      <td>3</td>\n",
       "      <td>3</td>\n",
       "      <td>3</td>\n",
       "      <td>3</td>\n",
       "      <td>3</td>\n",
       "      <td>2</td>\n",
       "      <td>1</td>\n",
       "      <td>1</td>\n",
       "      <td>1</td>\n",
       "      <td>1</td>\n",
       "    </tr>\n",
       "  </tbody>\n",
       "</table>\n",
       "<p>2463 rows × 337 columns</p>\n",
       "</div>"
      ],
      "text/plain": [
       "     2003-01-31 00:00:00 2003-02-28 00:00:00 2003-03-31 00:00:00  \\\n",
       "0                      0                   0                   0   \n",
       "1                      0                   0                   0   \n",
       "2                      0                   0                   0   \n",
       "3                      0                   0                   0   \n",
       "4                      0                   0                   0   \n",
       "...                  ...                 ...                 ...   \n",
       "2458                   0                   0                   0   \n",
       "2459                   0                   0                   0   \n",
       "2460                   0                   0                   0   \n",
       "2461                   0                   0                   0   \n",
       "2462                   0                   0                   0   \n",
       "\n",
       "     2003-04-30 00:00:00 2003-05-31 00:00:00 2003-06-30 00:00:00  \\\n",
       "0                      0                   0                   0   \n",
       "1                      0                   0                   0   \n",
       "2                      0                   0                   0   \n",
       "3                      0                   0                   0   \n",
       "4                      0                   0                   0   \n",
       "...                  ...                 ...                 ...   \n",
       "2458                   0                   0                   0   \n",
       "2459                   0                   0                   0   \n",
       "2460                   1                   1                   0   \n",
       "2461                   1                   1                   0   \n",
       "2462                   0                   0                   0   \n",
       "\n",
       "     2003-07-31 00:00:00  2003-08-31 00:00:00 2003-09-30 00:00:00  \\\n",
       "0                      0                  0.0                   0   \n",
       "1                      0                  0.0                   0   \n",
       "2                      0                  0.0                   0   \n",
       "3                      0                  0.0                   0   \n",
       "4                      0                  0.0                   0   \n",
       "...                  ...                  ...                 ...   \n",
       "2458                   0                  0.0                   0   \n",
       "2459                   0                  0.0                   0   \n",
       "2460                   0                  0.0                   0   \n",
       "2461                   0                  0.0                   0   \n",
       "2462                   0                  0.0                   0   \n",
       "\n",
       "     2003-10-31 00:00:00  ... 2022-03-15 00:00:00 2022-03-31 00:00:00  \\\n",
       "0                      0  ...                   2                   2   \n",
       "1                      0  ...                   2                   2   \n",
       "2                      0  ...                   2                   2   \n",
       "3                      0  ...                   1                   2   \n",
       "4                      0  ...                   2                   2   \n",
       "...                  ...  ...                 ...                 ...   \n",
       "2458                   0  ...                   2                   2   \n",
       "2459                   0  ...                   3                   3   \n",
       "2460                   0  ...                   2                   2   \n",
       "2461                   0  ...                   1                   1   \n",
       "2462                   0  ...                   3                   3   \n",
       "\n",
       "     2022-04-15 00:00:00  2022-04-30 00:00:00 2022-05-15 00:00:00  \\\n",
       "0                      3                    2                   2   \n",
       "1                      2                    2                   2   \n",
       "2                      3                    2                   2   \n",
       "3                      2                    2                   2   \n",
       "4                      2                    2                   2   \n",
       "...                  ...                  ...                 ...   \n",
       "2458                   2                    2                   2   \n",
       "2459                   3                    2                   2   \n",
       "2460                   2                    2                   2   \n",
       "2461                   2                    1                   1   \n",
       "2462                   3                    3                   3   \n",
       "\n",
       "     2022-05-31 00:00:00 2022-06-15 00:00:00 2022-06-30 00:00:00  \\\n",
       "0                      2                   1                   2   \n",
       "1                      2                   2                   3   \n",
       "2                      2                   2                   2   \n",
       "3                      2                   2                   2   \n",
       "4                      2                   1                   2   \n",
       "...                  ...                 ...                 ...   \n",
       "2458                   2                   2                   3   \n",
       "2459                   2                   2                   2   \n",
       "2460                   2                   1                   1   \n",
       "2461                   1                   1                   1   \n",
       "2462                   2                   1                   1   \n",
       "\n",
       "     2022-07-15 00:00:00 CLASIFICACION  \n",
       "0                      2             0  \n",
       "1                      3             0  \n",
       "2                      3             0  \n",
       "3                      2             0  \n",
       "4                      2             0  \n",
       "...                  ...           ...  \n",
       "2458                   3             0  \n",
       "2459                   3             1  \n",
       "2460                   1             0  \n",
       "2461                   1             0  \n",
       "2462                   1             1  \n",
       "\n",
       "[2463 rows x 337 columns]"
      ]
     },
     "execution_count": 52,
     "metadata": {},
     "output_type": "execute_result"
    }
   ],
   "source": [
    "sequias_df2\n"
   ]
  },
  {
   "cell_type": "code",
   "execution_count": 53,
   "metadata": {},
   "outputs": [
    {
     "data": {
      "text/plain": [
       "<matplotlib.collections.PathCollection at 0x222c5fe2040>"
      ]
     },
     "execution_count": 53,
     "metadata": {},
     "output_type": "execute_result"
    },
    {
     "data": {
      "image/png": "[encoded data removed]",
      "text/plain": [
       "<Figure size 1080x720 with 1 Axes>"
      ]
     },
     "metadata": {
      "needs_background": "light"
     },
     "output_type": "display_data"
    }
   ],
   "source": [
    "# size and color:\n",
    "plt.figure(figsize=(15,10))\n",
    "\n",
    "plt.title('Posiciones de cada entidad respecto a sus municipios',fontsize=20)\n",
    "plt.xlabel('Municipios de cada entidad',fontsize=20)\n",
    "plt.xticks(fontsize=20,rotation=90)\n",
    "plt.ylabel('promedio de sequia de cada municipio de estado')\n",
    "\n",
    "#sizes = np.random.uniform(15, 80, len(sequias_df['CVE_ENT']))\n",
    "colors = np.random.uniform(0,1, len(sequias_df3))\n",
    "plt.scatter(sequias_df3,lista3,s=30, c =colors)\n"
   ]
  },
  {
   "cell_type": "code",
   "execution_count": 54,
   "metadata": {},
   "outputs": [],
   "source": [
    "import csv\n",
    "\n",
    "select_fil.to_csv('datos.txt', sep=\" \", \n",
    "          quoting=csv.QUOTE_NONE, escapechar=\" \")"
   ]
  },
  {
   "cell_type": "code",
   "execution_count": 55,
   "metadata": {},
   "outputs": [],
   "source": [
    "X=sequias_df2.drop(['CLASIFICACION'],axis=1)\n",
    "#Y=##hacer suma y promediar para darle una estimacion de seco 1 o 0\n"
   ]
  },
  {
   "cell_type": "code",
   "execution_count": 56,
   "metadata": {},
   "outputs": [],
   "source": [
    "y=sequias_df2['CLASIFICACION']"
   ]
  },
  {
   "cell_type": "code",
   "execution_count": 57,
   "metadata": {},
   "outputs": [],
   "source": [
    "from sklearn import linear_model\n",
    "from sklearn.metrics import mean_absolute_error, mean_squared_error, median_absolute_error, r2_score, explained_variance_score\n"
   ]
  },
  {
   "cell_type": "code",
   "execution_count": 58,
   "metadata": {},
   "outputs": [],
   "source": [
    "from sklearn.model_selection import train_test_split\n",
    "\n",
    "X_train,X_test, y_train,y_test=train_test_split(X,y,test_size=0.2)"
   ]
  },
  {
   "cell_type": "code",
   "execution_count": 59,
   "metadata": {},
   "outputs": [
    {
     "name": "stderr",
     "output_type": "stream",
     "text": [
      "C:\\Users\\elgem\\AppData\\Roaming\\Python\\Python39\\site-packages\\sklearn\\utils\\validation.py:1688: FutureWarning: Feature names only support names that are all strings. Got feature names with dtypes: ['datetime']. An error will be raised in 1.2.\n",
      "  warnings.warn(\n"
     ]
    },
    {
     "data": {
      "text/plain": [
       "MultinomialNB()"
      ]
     },
     "execution_count": 59,
     "metadata": {},
     "output_type": "execute_result"
    }
   ],
   "source": [
    "from sklearn.naive_bayes import MultinomialNB\n",
    "\n",
    "nb_multinomial=MultinomialNB()\n",
    "nb_multinomial.fit(X_train,y_train)"
   ]
  },
  {
   "cell_type": "code",
   "execution_count": 60,
   "metadata": {},
   "outputs": [],
   "source": [
    "from sklearn.metrics import classification_report, confusion_matrix,accuracy_score"
   ]
  },
  {
   "cell_type": "code",
   "execution_count": 61,
   "metadata": {},
   "outputs": [
    {
     "name": "stderr",
     "output_type": "stream",
     "text": [
      "C:\\Users\\elgem\\AppData\\Roaming\\Python\\Python39\\site-packages\\sklearn\\utils\\validation.py:1688: FutureWarning: Feature names only support names that are all strings. Got feature names with dtypes: ['datetime']. An error will be raised in 1.2.\n",
      "  warnings.warn(\n"
     ]
    },
    {
     "data": {
      "text/plain": [
       "array([0, 0, 0, ..., 0, 0, 1], dtype=int64)"
      ]
     },
     "execution_count": 61,
     "metadata": {},
     "output_type": "execute_result"
    }
   ],
   "source": [
    "y_predict_train=nb_multinomial.predict(X_train)\n",
    "y_predict_train"
   ]
  },
  {
   "cell_type": "code",
   "execution_count": 62,
   "metadata": {},
   "outputs": [
    {
     "data": {
      "text/plain": [
       "<AxesSubplot:>"
      ]
     },
     "execution_count": 62,
     "metadata": {},
     "output_type": "execute_result"
    },
    {
     "data": {
      "image/png": "[encoded data removed]",
      "text/plain": [
       "<Figure size 432x288 with 2 Axes>"
      ]
     },
     "metadata": {
      "needs_background": "light"
     },
     "output_type": "display_data"
    }
   ],
   "source": [
    "cm=confusion_matrix(y_train,y_predict_train)\n",
    "\n",
    "sns.heatmap(cm, annot=True)"
   ]
  },
  {
   "cell_type": "code",
   "execution_count": 63,
   "metadata": {},
   "outputs": [
    {
     "name": "stderr",
     "output_type": "stream",
     "text": [
      "C:\\Users\\elgem\\AppData\\Roaming\\Python\\Python39\\site-packages\\sklearn\\utils\\validation.py:1688: FutureWarning: Feature names only support names that are all strings. Got feature names with dtypes: ['datetime']. An error will be raised in 1.2.\n",
      "  warnings.warn(\n"
     ]
    },
    {
     "data": {
      "text/plain": [
       "<AxesSubplot:>"
      ]
     },
     "execution_count": 63,
     "metadata": {},
     "output_type": "execute_result"
    },
    {
     "data": {
      "image/png": "[encoded data removed]",
      "text/plain": [
       "<Figure size 432x288 with 2 Axes>"
      ]
     },
     "metadata": {
      "needs_background": "light"
     },
     "output_type": "display_data"
    }
   ],
   "source": [
    "y_test_predict=nb_multinomial.predict(X_test)\n",
    "\n",
    "cm2=confusion_matrix(y_test,y_test_predict)\n",
    "\n",
    "sns.heatmap(cm2, annot=True)"
   ]
  },
  {
   "cell_type": "code",
   "execution_count": 64,
   "metadata": {},
   "outputs": [
    {
     "name": "stdout",
     "output_type": "stream",
     "text": [
      "              precision    recall  f1-score   support\n",
      "\n",
      "           0       0.90      0.86      0.88       229\n",
      "           1       0.89      0.92      0.90       264\n",
      "\n",
      "    accuracy                           0.89       493\n",
      "   macro avg       0.89      0.89      0.89       493\n",
      "weighted avg       0.89      0.89      0.89       493\n",
      "\n"
     ]
    }
   ],
   "source": [
    "print(classification_report(y_test,y_test_predict))"
   ]
  },
  {
   "cell_type": "code",
   "execution_count": 65,
   "metadata": {},
   "outputs": [
    {
     "name": "stderr",
     "output_type": "stream",
     "text": [
      "C:\\Users\\elgem\\AppData\\Roaming\\Python\\Python39\\site-packages\\sklearn\\utils\\validation.py:1688: FutureWarning: Feature names only support names that are all strings. Got feature names with dtypes: ['datetime']. An error will be raised in 1.2.\n",
      "  warnings.warn(\n",
      "C:\\Users\\elgem\\AppData\\Roaming\\Python\\Python39\\site-packages\\sklearn\\linear_model\\_logistic.py:814: ConvergenceWarning: lbfgs failed to converge (status=1):\n",
      "STOP: TOTAL NO. of ITERATIONS REACHED LIMIT.\n",
      "\n",
      "Increase the number of iterations (max_iter) or scale the data as shown in:\n",
      "    https://scikit-learn.org/stable/modules/preprocessing.html\n",
      "Please also refer to the documentation for alternative solver options:\n",
      "    https://scikit-learn.org/stable/modules/linear_model.html#logistic-regression\n",
      "  n_iter_i = _check_optimize_result(\n",
      "C:\\Users\\elgem\\AppData\\Roaming\\Python\\Python39\\site-packages\\sklearn\\utils\\validation.py:1688: FutureWarning: Feature names only support names that are all strings. Got feature names with dtypes: ['datetime']. An error will be raised in 1.2.\n",
      "  warnings.warn(\n"
     ]
    }
   ],
   "source": [
    "from sklearn.linear_model import LogisticRegression\n",
    "model=LogisticRegression()\n",
    "model.fit(X_train,y_train)\n",
    "\n",
    "y_pred=model.predict(X_test)"
   ]
  },
  {
   "cell_type": "code",
   "execution_count": 66,
   "metadata": {},
   "outputs": [
    {
     "data": {
      "text/plain": [
       "array([0, 1, 1, 0, 1, 0, 0, 0, 0, 0, 1, 0, 1, 1, 1, 0, 1, 0, 0, 1, 1, 0,\n",
       "       0, 0, 0, 0, 1, 1, 1, 1, 1, 0, 1, 1, 0, 1, 1, 1, 1, 1, 0, 0, 0, 1,\n",
       "       0, 0, 1, 1, 0, 1, 1, 1, 1, 0, 1, 0, 0, 1, 0, 1, 0, 1, 0, 1, 1, 1,\n",
       "       1, 0, 0, 1, 1, 1, 0, 0, 1, 1, 1, 0, 1, 0, 0, 0, 1, 1, 1, 1, 1, 1,\n",
       "       1, 1, 1, 0, 1, 1, 1, 1, 0, 0, 1, 1, 1, 1, 0, 1, 1, 1, 0, 1, 0, 1,\n",
       "       0, 1, 1, 1, 1, 1, 1, 1, 1, 1, 1, 0, 1, 1, 0, 1, 1, 1, 1, 0, 1, 1,\n",
       "       1, 1, 1, 1, 1, 1, 1, 1, 1, 0, 0, 0, 0, 1, 1, 0, 0, 0, 1, 1, 1, 0,\n",
       "       0, 1, 1, 1, 0, 1, 1, 1, 1, 0, 0, 0, 1, 1, 1, 0, 1, 1, 0, 1, 1, 1,\n",
       "       0, 1, 1, 0, 0, 1, 0, 1, 1, 0, 1, 1, 0, 0, 1, 1, 1, 1, 1, 0, 0, 0,\n",
       "       1, 0, 1, 0, 1, 1, 1, 1, 1, 0, 0, 1, 0, 0, 1, 0, 1, 1, 0, 1, 0, 1,\n",
       "       0, 0, 1, 1, 0, 1, 1, 0, 0, 1, 0, 0, 0, 1, 0, 0, 1, 0, 0, 1, 0, 0,\n",
       "       1, 0, 0, 0, 1, 0, 0, 0, 0, 0, 0, 0, 0, 0, 0, 1, 0, 0, 1, 0, 1, 1,\n",
       "       1, 0, 1, 1, 1, 0, 1, 0, 0, 1, 1, 1, 1, 0, 1, 1, 0, 1, 0, 1, 1, 1,\n",
       "       1, 1, 0, 1, 1, 1, 0, 1, 0, 1, 1, 1, 0, 1, 1, 0, 1, 1, 1, 1, 0, 1,\n",
       "       0, 1, 1, 1, 1, 0, 1, 0, 1, 1, 0, 0, 0, 1, 0, 0, 0, 0, 1, 1, 0, 0,\n",
       "       0, 0, 0, 0, 1, 0, 0, 1, 0, 0, 1, 0, 0, 1, 1, 1, 0, 0, 1, 1, 1, 0,\n",
       "       0, 1, 1, 0, 1, 1, 1, 1, 0, 0, 1, 1, 1, 1, 0, 0, 1, 0, 1, 0, 0, 1,\n",
       "       0, 0, 1, 1, 0, 0, 1, 1, 1, 0, 1, 0, 0, 1, 0, 0, 0, 0, 0, 1, 0, 1,\n",
       "       0, 0, 1, 1, 0, 1, 0, 0, 0, 1, 1, 0, 0, 1, 0, 1, 1, 0, 0, 1, 1, 1,\n",
       "       0, 0, 1, 0, 0, 0, 1, 1, 0, 0, 0, 0, 1, 0, 1, 1, 1, 1, 0, 1, 1, 1,\n",
       "       1, 1, 0, 0, 0, 0, 1, 1, 0, 1, 1, 0, 0, 0, 1, 0, 1, 1, 1, 0, 1, 1,\n",
       "       1, 1, 1, 1, 1, 0, 1, 0, 0, 1, 0, 1, 0, 1, 0, 1, 0, 0, 0, 0, 0, 0,\n",
       "       1, 0, 0, 1, 0, 1, 1, 0, 0], dtype=int64)"
      ]
     },
     "execution_count": 66,
     "metadata": {},
     "output_type": "execute_result"
    }
   ],
   "source": [
    "y_pred"
   ]
  },
  {
   "cell_type": "code",
   "execution_count": 67,
   "metadata": {},
   "outputs": [
    {
     "name": "stdout",
     "output_type": "stream",
     "text": [
      "Accuracy 97.56592292089249 %\n"
     ]
    }
   ],
   "source": [
    "print(\"Accuracy {} %\".format(100*accuracy_score(y_pred,y_test)))"
   ]
  },
  {
   "cell_type": "code",
   "execution_count": 68,
   "metadata": {},
   "outputs": [
    {
     "data": {
      "text/plain": [
       "<AxesSubplot:>"
      ]
     },
     "execution_count": 68,
     "metadata": {},
     "output_type": "execute_result"
    },
    {
     "data": {
      "image/png": "[encoded data removed]",
      "text/plain": [
       "<Figure size 432x288 with 2 Axes>"
      ]
     },
     "metadata": {
      "needs_background": "light"
     },
     "output_type": "display_data"
    }
   ],
   "source": [
    "cm3=confusion_matrix(y_test,y_pred)\n",
    "sns.heatmap(cm3,annot=True)"
   ]
  },
  {
   "cell_type": "code",
   "execution_count": 69,
   "metadata": {},
   "outputs": [
    {
     "name": "stdout",
     "output_type": "stream",
     "text": [
      "              precision    recall  f1-score   support\n",
      "\n",
      "           0       0.99      0.96      0.97       229\n",
      "           1       0.96      0.99      0.98       264\n",
      "\n",
      "    accuracy                           0.98       493\n",
      "   macro avg       0.98      0.97      0.98       493\n",
      "weighted avg       0.98      0.98      0.98       493\n",
      "\n"
     ]
    }
   ],
   "source": [
    "print(classification_report(y_test,y_pred))"
   ]
  },
  {
   "cell_type": "code",
   "execution_count": 70,
   "metadata": {},
   "outputs": [
    {
     "data": {
      "text/plain": [
       "array([0, 1, 1, 0, 1, 0, 0, 0, 0, 0, 1, 0, 1, 1, 1, 0, 1, 0, 0, 1, 1, 0,\n",
       "       0, 0, 0, 0, 1, 1, 1, 1, 1, 0, 1, 1, 0, 1, 1, 1, 1, 1, 0, 0, 0, 1,\n",
       "       0, 0, 1, 1, 0, 1, 1, 1, 1, 0, 1, 0, 0, 1, 0, 1, 0, 1, 0, 1, 1, 1,\n",
       "       1, 0, 0, 1, 1, 1, 0, 0, 1, 1, 1, 0, 1, 0, 0, 0, 1, 1, 1, 1, 1, 1,\n",
       "       1, 1, 1, 0, 1, 1, 1, 1, 0, 0, 1, 1, 1, 1, 0, 1, 1, 1, 0, 1, 0, 1,\n",
       "       0, 1, 1, 1, 1, 1, 1, 1, 1, 1, 1, 0, 1, 1, 0, 1, 1, 1, 1, 0, 1, 1,\n",
       "       1, 1, 1, 1, 1, 1, 1, 1, 1, 0, 0, 0, 0, 1, 1, 0, 0, 0, 1, 1, 1, 0,\n",
       "       0, 1, 1, 1, 0, 1, 1, 1, 1, 0, 0, 0, 1, 1, 1, 0, 1, 1, 0, 1, 1, 1,\n",
       "       0, 1, 1, 0, 0, 1, 0, 1, 1, 0, 1, 1, 0, 0, 1, 1, 1, 1, 1, 0, 0, 0,\n",
       "       1, 0, 1, 0, 1, 1, 1, 1, 1, 0, 0, 1, 0, 0, 1, 0, 1, 1, 0, 1, 0, 1,\n",
       "       0, 0, 1, 1, 0, 1, 1, 0, 0, 1, 0, 0, 0, 1, 0, 0, 1, 0, 0, 1, 0, 0,\n",
       "       1, 0, 0, 0, 1, 0, 0, 0, 0, 0, 0, 0, 0, 0, 0, 1, 0, 0, 1, 0, 1, 1,\n",
       "       1, 0, 1, 1, 1, 0, 1, 0, 0, 1, 1, 1, 1, 0, 1, 1, 0, 1, 0, 1, 1, 1,\n",
       "       1, 1, 0, 1, 1, 1, 0, 1, 0, 1, 1, 1, 0, 1, 1, 0, 1, 1, 1, 1, 0, 1,\n",
       "       0, 1, 1, 1, 1, 0, 1, 0, 1, 1, 0, 0, 0, 1, 0, 0, 0, 0, 1, 1, 0, 0,\n",
       "       0, 0, 0, 0, 1, 0, 0, 1, 0, 0, 1, 0, 0, 1, 1, 1, 0, 0, 1, 1, 1, 0,\n",
       "       0, 1, 1, 0, 1, 1, 1, 1, 0, 0, 1, 1, 1, 1, 0, 0, 1, 0, 1, 0, 0, 1,\n",
       "       0, 0, 1, 1, 0, 0, 1, 1, 1, 0, 1, 0, 0, 1, 0, 0, 0, 0, 0, 1, 0, 1,\n",
       "       0, 0, 1, 1, 0, 1, 0, 0, 0, 1, 1, 0, 0, 1, 0, 1, 1, 0, 0, 1, 1, 1,\n",
       "       0, 0, 1, 0, 0, 0, 1, 1, 0, 0, 0, 0, 1, 0, 1, 1, 1, 1, 0, 1, 1, 1,\n",
       "       1, 1, 0, 0, 0, 0, 1, 1, 0, 1, 1, 0, 0, 0, 1, 0, 1, 1, 1, 0, 1, 1,\n",
       "       1, 1, 1, 1, 1, 0, 1, 0, 0, 1, 0, 1, 0, 1, 0, 1, 0, 0, 0, 0, 0, 0,\n",
       "       1, 0, 0, 1, 0, 1, 1, 0, 0], dtype=int64)"
      ]
     },
     "execution_count": 70,
     "metadata": {},
     "output_type": "execute_result"
    }
   ],
   "source": [
    "y_pred"
   ]
  },
  {
   "cell_type": "markdown",
   "metadata": {},
   "source": [
    "falta arreglar la salida"
   ]
  },
  {
   "cell_type": "code",
   "execution_count": 82,
   "metadata": {},
   "outputs": [
    {
     "data": {
      "text/plain": [
       "0"
      ]
     },
     "execution_count": 82,
     "metadata": {},
     "output_type": "execute_result"
    }
   ],
   "source": [
    "sequias_df2['CLASIFICACION'][0]"
   ]
  },
  {
   "cell_type": "markdown",
   "metadata": {},
   "source": [
    "salidas de datos y prediccion"
   ]
  },
  {
   "cell_type": "code",
   "execution_count": 113,
   "metadata": {},
   "outputs": [
    {
     "data": {
      "image/png": "[encoded data removed]",
      "text/plain": [
       "<Figure size 1080x720 with 1 Axes>"
      ]
     },
     "metadata": {
      "needs_background": "light"
     },
     "output_type": "display_data"
    }
   ],
   "source": [
    "plt.figure(figsize=(15,10))\n",
    "plt.grid()\n",
    "plt.title('Regresión logistica')\n",
    "plt.xlabel('x')\n",
    "plt.ylabel('escala de sequia')\n",
    "plt.xticks(rotation=90)\n",
    "plt.plot(sequias_df3[492:493],y[492:493],'bo')\n",
    "plt.plot(sequias_df3[492:493],y_pred[492:493],'r*')\n",
    "plt.legend(['datos reales','datos a predecir'])\n",
    "plt.show()"
   ]
  }
 ],
 "metadata": {
  "kernelspec": {
   "display_name": "Python 3.9.9 64-bit",
   "language": "python",
   "name": "python3"
  },
  "language_info": {
   "codemirror_mode": {
    "name": "ipython",
    "version": 3
   },
   "file_extension": ".py",
   "mimetype": "text/x-python",
   "name": "python",
   "nbconvert_exporter": "python",
   "pygments_lexer": "ipython3",
   "version": "3.9.9"
  },
  "orig_nbformat": 4,
  "vscode": {
   "interpreter": {
    "hash": "11938c6bc6919ae2720b4d5011047913343b08a43b18698fd82dedb0d4417594"
   }
  }
 },
 "nbformat": 4,
 "nbformat_minor": 2
}
